{
    "cells":  [
                  {
                      "cell_type":  "markdown",
                      "metadata":  {

                                   },
                      "source":  [
                                     "Copyright (c) Microsoft Corporation. All rights reserved.\n",
                                     "\n",
                                     "Licensed under the MIT License."
                                 ]
                  },
                  {
                      "cell_type":  "markdown",
                      "metadata":  {

                                   },
                      "source":  [
                                     "![Impressions](https://PixelServer20190423114238.azurewebsites.net/api/impressions/NotebookVM/how-to-use-azureml/automated-machine-learning/regression-car-price-model-explaination-and-featurization/auto-ml-regression.png)"
                                 ]
                  },
                  {
                      "cell_type":  "markdown",
                      "metadata":  {

                                   },
                      "source":  [
                                     "# Automated Machine Learning\n",
                                     "_**Regression with Aml Compute**_\n",
                                     "\n",
                                     "## Contents\n",
                                     "1. [Introduction](#Introduction)\n",
                                     "1. [Setup](#Setup)\n",
                                     "1. [Data](#Data)\n",
                                     "1. [Train](#Train)\n",
                                     "1. [Results](#Results)\n",
                                     "1. [Test](#Test)\n"
                                 ]
                  },
                  {
                      "cell_type":  "markdown",
                      "metadata":  {

                                   },
                      "source":  [
                                     "## Introduction\n",
                                     "In this example we use the Hardware Performance Dataset to showcase how you can use AutoML for a simple regression problem. The Regression goal is to predict the performance of certain combinations of hardware parts.\n",
                                     "After training AutoML models for this regression data set, we show how you can compute model explanations on your remote compute using a sample explainer script.\n",
                                     "\n",
                                     "If you are using an Azure Machine Learning Notebook VM, you are all set.  Otherwise, go through the [configuration](../../../configuration.ipynb)  notebook first if you haven\u0027t already to establish your connection to the AzureML Workspace. \n",
                                     "\n",
                                     "An Enterprise workspace is required for this notebook. To learn more about creating an Enterprise workspace or upgrading to an Enterprise workspace from the Azure portal, please visit our [Workspace page.](https://docs.microsoft.com/azure/machine-learning/service/concept-workspace#upgrade) \n",
                                     "\n",
                                     "In this notebook you will learn how to:\n",
                                     "1. Create an `Experiment` in an existing `Workspace`.\n",
                                     "2. Instantiating AutoMLConfig with FeaturizationConfig for customization\n",
                                     "3. Train the model using remote compute.\n",
                                     "4. Explore the results and featurization transparency options\n",
                                     "5. Setup remote compute for computing the model explanations for a given AutoML model.\n",
                                     "6. Start an AzureML experiment on your remote compute to compute explanations for an AutoML model.\n",
                                     "7. Download the feature importance for engineered features and visualize the explanations for engineered features. \n",
                                     "8. Download the feature importance for raw features and visualize the explanations for raw features. \n"
                                 ]
                  },
                  {
                      "cell_type":  "markdown",
                      "metadata":  {

                                   },
                      "source":  [
                                     "## Setup\n",
                                     "\n",
                                     "As part of the setup you have already created an Azure ML `Workspace` object. For Automated ML you will need to create an `Experiment` object, which is a named object in a `Workspace` used to run experiments."
                                 ]
                  },
                  {
                      "cell_type":  "code",
                      "execution_count":  null,
                      "metadata":  {

                                   },
                      "outputs":  [

                                  ],
                      "source":  [
                                     "import logging\n",
                                     "\n",
                                     "from matplotlib import pyplot as plt\n",
                                     "import numpy as np\n",
                                     "import pandas as pd\n",
                                     "\n",
                                     "import azureml.core\n",
                                     "from azureml.core.experiment import Experiment\n",
                                     "from azureml.core.workspace import Workspace\n",
                                     "import azureml.dataprep as dprep\n",
                                     "from azureml.automl.core.featurization import FeaturizationConfig\n",
                                     "from azureml.train.automl import AutoMLConfig\n",
                                     "from azureml.core.dataset import Dataset"
                                 ]
                  },
                  {
                      "cell_type":  "code",
                      "execution_count":  null,
                      "metadata":  {

                                   },
                      "outputs":  [

                                  ],
                      "source":  [
                                     "ws = Workspace.from_config()\n",
                                     "\n",
                                     "# Choose a name for the experiment.\n",
                                     "experiment_name = \u0027automl-regression-hardware-explain\u0027\n",
                                     "experiment = Experiment(ws, experiment_name)\n",
                                     "\n",
                                     "output = {}\n",
                                     "output[\u0027SDK version\u0027] = azureml.core.VERSION\n",
                                     "output[\u0027Subscription ID\u0027] = ws.subscription_id\n",
                                     "output[\u0027Workspace Name\u0027] = ws.name\n",
                                     "output[\u0027Resource Group\u0027] = ws.resource_group\n",
                                     "output[\u0027Location\u0027] = ws.location\n",
                                     "output[\u0027Experiment Name\u0027] = experiment.name\n",
                                     "pd.set_option(\u0027display.max_colwidth\u0027, -1)\n",
                                     "outputDf = pd.DataFrame(data = output, index = [\u0027\u0027])\n",
                                     "outputDf.T"
                                 ]
                  },
                  {
                      "cell_type":  "markdown",
                      "metadata":  {

                                   },
                      "source":  [
                                     "### Create or Attach existing AmlCompute\n",
                                     "You will need to create a [compute target](https://docs.microsoft.com/azure/machine-learning/service/concept-azure-machine-learning-architecture#compute-target) for your AutoML run. In this tutorial, you create `AmlCompute` as your training compute resource.\n",
                                     "\n",
                                     "**Creation of AmlCompute takes approximately 5 minutes.** If the AmlCompute with that name is already in your workspace this code will skip the creation process.\n",
                                     "\n",
                                     "As with other Azure services, there are limits on certain resources (e.g. AmlCompute) associated with the Azure Machine Learning service. Please read [this article](https://docs.microsoft.com/en-us/azure/machine-learning/service/how-to-manage-quotas) on the default limits and how to request more quota."
                                 ]
                  },
                  {
                      "cell_type":  "code",
                      "execution_count":  null,
                      "metadata":  {

                                   },
                      "outputs":  [

                                  ],
                      "source":  [
                                     "from azureml.core.compute import AmlCompute\n",
                                     "from azureml.core.compute import ComputeTarget\n",
                                     "\n",
                                     "# Choose a name for your cluster.\n",
                                     "amlcompute_cluster_name = \"cpu-cluster-5\"\n",
                                     "\n",
                                     "found = False\n",
                                     "# Check if this compute target already exists in the workspace.\n",
                                     "cts = ws.compute_targets\n",
                                     "if amlcompute_cluster_name in cts and cts[amlcompute_cluster_name].type == \u0027AmlCompute\u0027:\n",
                                     "    found = True\n",
                                     "    print(\u0027Found existing compute target.\u0027)\n",
                                     "    compute_target = cts[amlcompute_cluster_name]\n",
                                     "\n",
                                     "if not found:\n",
                                     "    print(\u0027Creating a new compute target...\u0027)\n",
                                     "    provisioning_config = AmlCompute.provisioning_configuration(vm_size = \"STANDARD_D2_V2\", # for GPU, use \"STANDARD_NC6\"\n",
                                     "                                                                #vm_priority = \u0027lowpriority\u0027, # optional\n",
                                     "                                                                max_nodes = 4)\n",
                                     "\n",
                                     "    # Create the cluster.\\n\",\n",
                                     "    compute_target = ComputeTarget.create(ws, amlcompute_cluster_name, provisioning_config)\n",
                                     "\n",
                                     "print(\u0027Checking cluster status...\u0027)\n",
                                     "# Can poll for a minimum number of nodes and for a specific timeout.\n",
                                     "# If no min_node_count is provided, it will use the scale settings for the cluster.\n",
                                     "compute_target.wait_for_completion(show_output = True, min_node_count = None, timeout_in_minutes = 20)\n",
                                     "\n",
                                     "# For a more detailed view of current AmlCompute status, use get_status()."
                                 ]
                  },
                  {
                      "cell_type":  "markdown",
                      "metadata":  {

                                   },
                      "source":  [
                                     "### Setup Training and Test Data for AutoML experiment\n",
                                     "\n",
                                     "Load the hardware dataset from a csv file containing both training features and labels. The features are inputs to the model, while the training labels represent the expected output of the model. Next, we\u0027ll split the data using random_split and extract the training data for the model.  We also register the datasets in your workspace using a name so that these datasets may be accessed from the remote compute."
                                 ]
                  },
                  {
                      "cell_type":  "code",
                      "execution_count":  null,
                      "metadata":  {

                                   },
                      "outputs":  [

                                  ],
                      "source":  [
                                     "data = \u0027https://automlsamplenotebookdata.blob.core.windows.net/automl-sample-notebook-data/machineData.csv\u0027\n",
                                     "\n",
                                     "dataset = Dataset.Tabular.from_delimited_files(data)\n",
                                     "\n",
                                     "# Split the dataset into train and test datasets\n",
                                     "train_data, test_data = dataset.random_split(percentage=0.8, seed=223)\n",
                                     "\n",
                                     "\n",
                                     "# Register the train dataset with your workspace\n",
                                     "train_data.register(workspace = ws, name = \u0027machineData_train_dataset\u0027,\n",
                                     "                       description = \u0027hardware performance training data\u0027,\n",
                                     "                      create_new_version=True)\n",
                                     "\n",
                                     "# Register the test dataset with your workspace\n",
                                     "test_data.register(workspace = ws, name = \u0027machineData_test_dataset\u0027, description = \u0027hardware performance test data\u0027, create_new_version=True)\n",
                                     "\n",
                                     "label =\"ERP\"\n",
                                     "\n",
                                     "train_data.to_pandas_dataframe().head()"
                                 ]
                  },
                  {
                      "cell_type":  "markdown",
                      "metadata":  {

                                   },
                      "source":  [
                                     "## Train\n",
                                     "\n",
                                     "Instantiate an `AutoMLConfig` object to specify the settings and data used to run the experiment.\n",
                                     "\n",
                                     "|Property|Description|\n",
                                     "|-|-|\n",
                                     "|**task**|classification, regression or forecasting|\n",
                                     "|**primary_metric**|This is the metric that you want to optimize. Regression supports the following primary metrics: \u003cbr\u003e\u003ci\u003espearman_correlation\u003c/i\u003e\u003cbr\u003e\u003ci\u003enormalized_root_mean_squared_error\u003c/i\u003e\u003cbr\u003e\u003ci\u003er2_score\u003c/i\u003e\u003cbr\u003e\u003ci\u003enormalized_mean_absolute_error\u003c/i\u003e|\n",
                                     "|**experiment_timeout_hours**| Maximum amount of time in hours that all iterations combined can take before the experiment terminates.|\n",
                                     "|**enable_early_stopping**| Flag to enble early termination if the score is not improving in the short term.|\n",
                                     "|**featurization**| \u0027auto\u0027 / \u0027off\u0027 / FeaturizationConfig Indicator for whether featurization step should be done automatically or not, or whether customized featurization should be used. Note: If the input data is sparse, featurization cannot be turned on.|\n",
                                     "|**n_cross_validations**|Number of cross validation splits.|\n",
                                     "|**training_data**|(sparse) array-like, shape = [n_samples, n_features]|\n",
                                     "|**label_column_name**|(sparse) array-like, shape = [n_samples, ], targets values.|"
                                 ]
                  },
                  {
                      "cell_type":  "markdown",
                      "metadata":  {

                                   },
                      "source":  [
                                     "## Customization\n",
                                     "\n",
                                     "This step requires an Enterprise workspace to gain access to this feature. To learn more about creating an Enterprise workspace or upgrading to an Enterprise workspace from the Azure portal, please visit our [Workspace page.](https://docs.microsoft.com/azure/machine-learning/service/concept-workspace#upgrade). \n",
                                     "\n",
                                     "Supported customization includes:\n",
                                     "1. Column purpose update: Override feature type for the specified column.\n",
                                     "2. Transformer parameter update: Update parameters for the specified transformer. Currently supports Imputer and HashOneHotEncoder.\n",
                                     "3. Drop columns: Columns to drop from being featurized.\n",
                                     "4. Block transformers: Allow/Block transformers to be used on featurization process."
                                 ]
                  },
                  {
                      "cell_type":  "markdown",
                      "metadata":  {

                                   },
                      "source":  [
                                     "Create FeaturizationConfig object using API calls"
                                 ]
                  },
                  {
                      "cell_type":  "code",
                      "execution_count":  null,
                      "metadata":  {

                                   },
                      "outputs":  [

                                  ],
                      "source":  [
                                     "featurization_config = FeaturizationConfig()\n",
                                     "featurization_config.blocked_transformers = [\u0027LabelEncoder\u0027]\n",
                                     "#featurization_config.drop_columns = [\u0027ERP\u0027, \u0027MMIN\u0027]\n",
                                     "featurization_config.add_column_purpose(\u0027MYCT\u0027, \u0027Numeric\u0027)\n",
                                     "featurization_config.add_column_purpose(\u0027VendorName\u0027, \u0027CategoricalHash\u0027)\n",
                                     "#default strategy mean, add transformer param for for 3 columns\n",
                                     "featurization_config.add_transformer_params(\u0027Imputer\u0027, [\u0027CACH\u0027], {\"strategy\": \"median\"})\n",
                                     "featurization_config.add_transformer_params(\u0027Imputer\u0027, [\u0027CHMIN\u0027], {\"strategy\": \"median\"})\n",
                                     "featurization_config.add_transformer_params(\u0027Imputer\u0027, [\u0027PRP\u0027], {\"strategy\": \"most_frequent\"})\n",
                                     "#featurization_config.add_transformer_params(\u0027HashOneHotEncoder\u0027, [], {\"number_of_bits\": 3})"
                                 ]
                  },
                  {
                      "cell_type":  "code",
                      "execution_count":  null,
                      "metadata":  {

                                   },
                      "outputs":  [

                                  ],
                      "source":  [
                                     "automl_settings = {\n",
                                     "    \"enable_early_stopping\": True, \n",
                                     "    \"experiment_timeout_hours\" : 0.2,\n",
                                     "    \"max_concurrent_iterations\": 4,\n",
                                     "    \"max_cores_per_iteration\": -1,\n",
                                     "    \"n_cross_validations\": 5,\n",
                                     "    \"primary_metric\": \u0027normalized_root_mean_squared_error\u0027,\n",
                                     "    \"verbosity\": logging.INFO\n",
                                     "}\n",
                                     "\n",
                                     "automl_config = AutoMLConfig(task = \u0027regression\u0027,\n",
                                     "                             debug_log = \u0027automl_errors.log\u0027,\n",
                                     "                             compute_target=compute_target,\n",
                                     "                             featurization=featurization_config,\n",
                                     "                             training_data = train_data,\n",
                                     "                             label_column_name = label,\n",
                                     "                             **automl_settings\n",
                                     "                            )"
                                 ]
                  },
                  {
                      "cell_type":  "markdown",
                      "metadata":  {

                                   },
                      "source":  [
                                     "Call the `submit` method on the experiment object and pass the run configuration. Execution of local runs is synchronous. Depending on the data and the number of iterations this can run for a while.\n",
                                     "In this example, we specify `show_output = True` to print currently running iterations to the console."
                                 ]
                  },
                  {
                      "cell_type":  "code",
                      "execution_count":  null,
                      "metadata":  {

                                   },
                      "outputs":  [

                                  ],
                      "source":  [
                                     "remote_run = experiment.submit(automl_config, show_output = False)"
                                 ]
                  },
                  {
                      "cell_type":  "code",
                      "execution_count":  null,
                      "metadata":  {

                                   },
                      "outputs":  [

                                  ],
                      "source":  [
                                     "remote_run"
                                 ]
                  },
                  {
                      "cell_type":  "markdown",
                      "metadata":  {

                                   },
                      "source":  [
                                     "Run the following cell to access previous runs. Uncomment the cell below and update the run_id."
                                 ]
                  },
                  {
                      "cell_type":  "code",
                      "execution_count":  null,
                      "metadata":  {

                                   },
                      "outputs":  [

                                  ],
                      "source":  [
                                     "#from azureml.train.automl.run import AutoMLRun\n",
                                     "#experiment_name = \u0027automl-regression-hardware\u0027\n",
                                     "#experiment = Experiment(ws, experiment_name)\n",
                                     "#remote_run = AutoMLRun(experiment=experiment, run_id=\u0027\u003crun_ID_goes_here\u0027)\n",
                                     "#remote_run"
                                 ]
                  },
                  {
                      "cell_type":  "code",
                      "execution_count":  null,
                      "metadata":  {

                                   },
                      "outputs":  [

                                  ],
                      "source":  [
                                     "remote_run.wait_for_completion()"
                                 ]
                  },
                  {
                      "cell_type":  "code",
                      "execution_count":  null,
                      "metadata":  {

                                   },
                      "outputs":  [

                                  ],
                      "source":  [
                                     "best_run, fitted_model = remote_run.get_output()"
                                 ]
                  },
                  {
                      "cell_type":  "code",
                      "execution_count":  null,
                      "metadata":  {

                                   },
                      "outputs":  [

                                  ],
                      "source":  [
                                     "best_run_customized, fitted_model_customized = remote_run.get_output()"
                                 ]
                  },
                  {
                      "cell_type":  "markdown",
                      "metadata":  {

                                   },
                      "source":  [
                                     "## Transparency\n",
                                     "\n",
                                     "View updated featurization summary"
                                 ]
                  },
                  {
                      "cell_type":  "code",
                      "execution_count":  null,
                      "metadata":  {

                                   },
                      "outputs":  [

                                  ],
                      "source":  [
                                     "custom_featurizer = fitted_model_customized.named_steps[\u0027datatransformer\u0027]"
                                 ]
                  },
                  {
                      "cell_type":  "code",
                      "execution_count":  null,
                      "metadata":  {

                                   },
                      "outputs":  [

                                  ],
                      "source":  [
                                     "custom_featurizer.get_featurization_summary()"
                                 ]
                  },
                  {
                      "cell_type":  "markdown",
                      "metadata":  {

                                   },
                      "source":  [
                                     "is_user_friendly=False allows for more detailed summary for transforms being applied"
                                 ]
                  },
                  {
                      "cell_type":  "code",
                      "execution_count":  null,
                      "metadata":  {

                                   },
                      "outputs":  [

                                  ],
                      "source":  [
                                     "custom_featurizer.get_featurization_summary(is_user_friendly=False)"
                                 ]
                  },
                  {
                      "cell_type":  "code",
                      "execution_count":  null,
                      "metadata":  {

                                   },
                      "outputs":  [

                                  ],
                      "source":  [
                                     "custom_featurizer.get_stats_feature_type_summary()"
                                 ]
                  },
                  {
                      "cell_type":  "markdown",
                      "metadata":  {

                                   },
                      "source":  [
                                     "## Results"
                                 ]
                  },
                  {
                      "cell_type":  "markdown",
                      "metadata":  {

                                   },
                      "source":  [
                                     "#### Widget for Monitoring Runs\n",
                                     "\n",
                                     "The widget will first report a \"loading\" status while running the first iteration. After completing the first iteration, an auto-updating graph and table will be shown. The widget will refresh once per minute, so you should see the graph update as child runs complete.\n",
                                     "\n",
                                     "**Note:** The widget displays a link at the bottom. Use this link to open a web interface to explore the individual run details"
                                 ]
                  },
                  {
                      "cell_type":  "code",
                      "execution_count":  null,
                      "metadata":  {

                                   },
                      "outputs":  [

                                  ],
                      "source":  [
                                     "from azureml.widgets import RunDetails\n",
                                     "RunDetails(remote_run).show() "
                                 ]
                  },
                  {
                      "cell_type":  "markdown",
                      "metadata":  {

                                   },
                      "source":  [
                                     "## Explanations\n",
                                     "This step requires an Enterprise workspace to gain access to this feature. To learn more about creating an Enterprise workspace or upgrading to an Enterprise workspace from the Azure portal, please visit our [Workspace page.](https://docs.microsoft.com/azure/machine-learning/service/concept-workspace#upgrade). \n",
                                     "This section will walk you through the workflow to compute model explanations for an AutoML model on your remote compute.\n",
                                     "\n",
                                     "### Retrieve any AutoML Model for explanations\n",
                                     "\n",
                                     "Below we select the some AutoML pipeline from our iterations. The `get_output` method returns the a AutoML run and the fitted model for the last invocation. Overloads on `get_output` allow you to retrieve the best run and fitted model for *any* logged metric or for a particular *iteration*."
                                 ]
                  },
                  {
                      "cell_type":  "code",
                      "execution_count":  null,
                      "metadata":  {

                                   },
                      "outputs":  [

                                  ],
                      "source":  [
                                     "automl_run, fitted_model = remote_run.get_output(metric=\u0027r2_score\u0027)"
                                 ]
                  },
                  {
                      "cell_type":  "markdown",
                      "metadata":  {

                                   },
                      "source":  [
                                     "### Setup model explanation run on the remote compute\n",
                                     "The following section provides details on how to setup an AzureML experiment to run model explanations for an AutoML model on your remote compute."
                                 ]
                  },
                  {
                      "cell_type":  "markdown",
                      "metadata":  {

                                   },
                      "source":  [
                                     "#### Sample script used for computing explanations\n",
                                     "View the sample script for computing the model explanations for your AutoML model on remote compute."
                                 ]
                  },
                  {
                      "cell_type":  "code",
                      "execution_count":  null,
                      "metadata":  {

                                   },
                      "outputs":  [

                                  ],
                      "source":  [
                                     "with open(\u0027train_explainer.py\u0027, \u0027r\u0027) as cefr:\n",
                                     "    print(cefr.read())"
                                 ]
                  },
                  {
                      "cell_type":  "markdown",
                      "metadata":  {

                                   },
                      "source":  [
                                     "#### Substitute values in your sample script\n",
                                     "The following cell shows how you change the values in the sample script so that you can change the sample script according to your experiment and dataset."
                                 ]
                  },
                  {
                      "cell_type":  "code",
                      "execution_count":  null,
                      "metadata":  {

                                   },
                      "outputs":  [

                                  ],
                      "source":  [
                                     "import shutil\n",
                                     "import os\n",
                                     "\n",
                                     "# create script folder\n",
                                     "script_folder = \u0027./sample_projects/automl-regression-hardware\u0027\n",
                                     "if not os.path.exists(script_folder):\n",
                                     "    os.makedirs(script_folder)\n",
                                     "\n",
                                     "# Copy the sample script to script folder.\n",
                                     "shutil.copy(\u0027train_explainer.py\u0027, script_folder)\n",
                                     "\n",
                                     "# Create the explainer script that will run on the remote compute.\n",
                                     "script_file_name = script_folder + \u0027/train_explainer.py\u0027\n",
                                     "\n",
                                     "# Open the sample script for modification\n",
                                     "with open(script_file_name, \u0027r\u0027) as cefr:\n",
                                     "    content = cefr.read()\n",
                                     "\n",
                                     "# Replace the values in train_explainer.py file with the appropriate values\n",
                                     "content = content.replace(\u0027\u003c\u003cexperimnet_name\u003e\u003e\u0027, automl_run.experiment.name) # your experiment name.\n",
                                     "content = content.replace(\u0027\u003c\u003crun_id\u003e\u003e\u0027, automl_run.id) # Run-id of the AutoML run for which you want to explain the model.\n",
                                     "content = content.replace(\u0027\u003c\u003ctarget_column_name\u003e\u003e\u0027, \u0027ERP\u0027) # Your target column name\n",
                                     "content = content.replace(\u0027\u003c\u003ctask\u003e\u003e\u0027, \u0027regression\u0027) # Training task type\n",
                                     "# Name of your training dataset register with your workspace\n",
                                     "content = content.replace(\u0027\u003c\u003ctrain_dataset_name\u003e\u003e\u0027, \u0027machineData_train_dataset\u0027) \n",
                                     "# Name of your test dataset register with your workspace\n",
                                     "content = content.replace(\u0027\u003c\u003ctest_dataset_name\u003e\u003e\u0027, \u0027machineData_test_dataset\u0027)\n",
                                     "\n",
                                     "# Write sample file into your script folder.\n",
                                     "with open(script_file_name, \u0027w\u0027) as cefw:\n",
                                     "    cefw.write(content)"
                                 ]
                  },
                  {
                      "cell_type":  "markdown",
                      "metadata":  {

                                   },
                      "source":  [
                                     "#### Create conda configuration for model explanations experiment\n",
                                     "We need `azureml-explain-model`, `azureml-train-automl` and `azureml-core` packages for computing model explanations for your AutoML model on remote compute."
                                 ]
                  },
                  {
                      "cell_type":  "code",
                      "execution_count":  null,
                      "metadata":  {

                                   },
                      "outputs":  [

                                  ],
                      "source":  [
                                     "from azureml.core.runconfig import RunConfiguration\n",
                                     "from azureml.core.conda_dependencies import CondaDependencies\n",
                                     "import pkg_resources\n",
                                     "\n",
                                     "# create a new RunConfig object\n",
                                     "conda_run_config = RunConfiguration(framework=\"python\")\n",
                                     "\n",
                                     "# Set compute target to AmlCompute\n",
                                     "conda_run_config.target = compute_target\n",
                                     "conda_run_config.environment.docker.enabled = True\n",
                                     "azureml_pip_packages = [\n",
                                     "    \u0027azureml-train-automl\u0027, \u0027azureml-core\u0027, \u0027azureml-explain-model\u0027\n",
                                     "]\n",
                                     "\n",
                                     "# specify CondaDependencies obj\n",
                                     "conda_run_config.environment.python.conda_dependencies = CondaDependencies.create(\n",
                                     "    pip_packages=azureml_pip_packages)"
                                 ]
                  },
                  {
                      "cell_type":  "markdown",
                      "metadata":  {

                                   },
                      "source":  [
                                     "#### Submit the experiment for model explanations\n",
                                     "Submit the experiment with the above `run_config` and the sample script for computing explanations."
                                 ]
                  },
                  {
                      "cell_type":  "code",
                      "execution_count":  null,
                      "metadata":  {

                                   },
                      "outputs":  [

                                  ],
                      "source":  [
                                     "# Now submit a run on AmlCompute for model explanations\n",
                                     "from azureml.core.script_run_config import ScriptRunConfig\n",
                                     "\n",
                                     "script_run_config = ScriptRunConfig(source_directory=script_folder,\n",
                                     "                                    script=\u0027train_explainer.py\u0027,\n",
                                     "                                    run_config=conda_run_config)\n",
                                     "\n",
                                     "run = experiment.submit(script_run_config)\n",
                                     "\n",
                                     "# Show run details\n",
                                     "run"
                                 ]
                  },
                  {
                      "cell_type":  "code",
                      "execution_count":  null,
                      "metadata":  {

                                   },
                      "outputs":  [

                                  ],
                      "source":  [
                                     "%%time\n",
                                     "# Shows output of the run on stdout.\n",
                                     "run.wait_for_completion(show_output=True)"
                                 ]
                  },
                  {
                      "cell_type":  "markdown",
                      "metadata":  {

                                   },
                      "source":  [
                                     "### Feature importance  and  explanation dashboard\n",
                                     "In this section we describe how you can download the explanation results from the explanations experiment and visualize the feature importance for your AutoML model. "
                                 ]
                  },
                  {
                      "cell_type":  "markdown",
                      "metadata":  {

                                   },
                      "source":  [
                                     "#### Setup for visualizing the model explanation results\n",
                                     "For visualizing the explanation results for the *fitted_model* we need to perform the following steps:-\n",
                                     "1. Featurize test data samples.\n",
                                     "\n",
                                     "The *automl_explainer_setup_obj* contains all the structures from above list. "
                                 ]
                  },
                  {
                      "cell_type":  "code",
                      "execution_count":  null,
                      "metadata":  {

                                   },
                      "outputs":  [

                                  ],
                      "source":  [
                                     "X_test = test_data.drop_columns([label]).to_pandas_dataframe()"
                                 ]
                  },
                  {
                      "cell_type":  "code",
                      "execution_count":  null,
                      "metadata":  {

                                   },
                      "outputs":  [

                                  ],
                      "source":  [
                                     "from azureml.train.automl.runtime.automl_explain_utilities import AutoMLExplainerSetupClass, automl_setup_model_explanations\n",
                                     "explainer_setup_class = automl_setup_model_explanations(fitted_model, \u0027regression\u0027, X_test=X_test)"
                                 ]
                  },
                  {
                      "cell_type":  "markdown",
                      "metadata":  {

                                   },
                      "source":  [
                                     "#### Download engineered feature importance from artifact store\n",
                                     "You can use *ExplanationClient* to download the engineered feature explanations from the artifact store of the *automl_run*. You can also use ExplanationDashboard to view the dash board visualization of the feature importance values of the engineered features."
                                 ]
                  },
                  {
                      "cell_type":  "code",
                      "execution_count":  null,
                      "metadata":  {

                                   },
                      "outputs":  [

                                  ],
                      "source":  [
                                     "from azureml.explain.model._internal.explanation_client import ExplanationClient\n",
                                     "from interpret_community.widget import ExplanationDashboard\n",
                                     "client = ExplanationClient.from_run(automl_run)\n",
                                     "engineered_explanations = client.download_model_explanation(raw=False)\n",
                                     "print(engineered_explanations.get_feature_importance_dict())\n",
                                     "ExplanationDashboard(engineered_explanations, explainer_setup_class.automl_estimator, datasetX=explainer_setup_class.X_test_transform)"
                                 ]
                  },
                  {
                      "cell_type":  "markdown",
                      "metadata":  {

                                   },
                      "source":  [
                                     "#### Download raw feature importance from artifact store\n",
                                     "You can use *ExplanationClient* to download the raw feature explanations from the artifact store of the *automl_run*. You can also use ExplanationDashboard to view the dash board visualization of the feature importance values of the raw features."
                                 ]
                  },
                  {
                      "cell_type":  "code",
                      "execution_count":  null,
                      "metadata":  {

                                   },
                      "outputs":  [

                                  ],
                      "source":  [
                                     "raw_explanations = client.download_model_explanation(raw=True)\n",
                                     "print(raw_explanations.get_feature_importance_dict())\n",
                                     "ExplanationDashboard(raw_explanations, explainer_setup_class.automl_pipeline, datasetX=explainer_setup_class.X_test_raw)"
                                 ]
                  },
                  {
                      "cell_type":  "markdown",
                      "metadata":  {

                                   },
                      "source":  [
                                     "## Operationailze\n",
                                     "In this section we will show how you can operationalize an AutoML model and the explainer which was used to compute the explanations in the previous section.\n",
                                     "\n",
                                     "### Register the AutoML model and the scoring explainer\n",
                                     "We use the *TreeScoringExplainer* from *azureml.explain.model* package to create the scoring explainer which will be used to compute the raw and engineered feature importances at the inference time. \n",
                                     "In the cell below, we register the AutoML model and the scoring explainer with the Model Management Service."
                                 ]
                  },
                  {
                      "cell_type":  "code",
                      "execution_count":  null,
                      "metadata":  {

                                   },
                      "outputs":  [

                                  ],
                      "source":  [
                                     "# Register trained automl model present in the \u0027outputs\u0027 folder in the artifacts\n",
                                     "original_model = automl_run.register_model(model_name=\u0027automl_model\u0027, \n",
                                     "                                           model_path=\u0027outputs/model.pkl\u0027)\n",
                                     "scoring_explainer_model = automl_run.register_model(model_name=\u0027scoring_explainer\u0027,\n",
                                     "                                                    model_path=\u0027outputs/scoring_explainer.pkl\u0027)"
                                 ]
                  },
                  {
                      "cell_type":  "markdown",
                      "metadata":  {

                                   },
                      "source":  [
                                     "### Create the conda dependencies for setting up the service\n",
                                     "We need to create the conda dependencies comprising of the *azureml-explain-model*, *azureml-train-automl* and *azureml-defaults* packages. "
                                 ]
                  },
                  {
                      "cell_type":  "code",
                      "execution_count":  null,
                      "metadata":  {

                                   },
                      "outputs":  [

                                  ],
                      "source":  [
                                     "myenv = automl_run.get_environment().python.conda_dependencies\n",
                                     "\n",
                                     "with open(\"myenv.yml\",\"w\") as f:\n",
                                     "    f.write(myenv.serialize_to_string())\n",
                                     "\n",
                                     "with open(\"myenv.yml\",\"r\") as f:\n",
                                     "    print(f.read())"
                                 ]
                  },
                  {
                      "cell_type":  "markdown",
                      "metadata":  {

                                   },
                      "source":  [
                                     "### View your scoring file"
                                 ]
                  },
                  {
                      "cell_type":  "code",
                      "execution_count":  null,
                      "metadata":  {

                                   },
                      "outputs":  [

                                  ],
                      "source":  [
                                     "with open(\"score_explain.py\",\"r\") as f:\n",
                                     "    print(f.read())"
                                 ]
                  },
                  {
                      "cell_type":  "markdown",
                      "metadata":  {

                                   },
                      "source":  [
                                     "### Deploy the service\n",
                                     "In the cell below, we deploy the service using the conda file and the scoring file from the previous steps. "
                                 ]
                  },
                  {
                      "cell_type":  "code",
                      "execution_count":  null,
                      "metadata":  {

                                   },
                      "outputs":  [

                                  ],
                      "source":  [
                                     "from azureml.core.webservice import Webservice\n",
                                     "from azureml.core.model import InferenceConfig\n",
                                     "from azureml.core.webservice import AciWebservice\n",
                                     "from azureml.core.model import Model\n",
                                     "\n",
                                     "aciconfig = AciWebservice.deploy_configuration(cpu_cores=1, \n",
                                     "                                               memory_gb=1, \n",
                                     "                                               tags={\"data\": \"Machine Data\",  \n",
                                     "                                                     \"method\" : \"local_explanation\"}, \n",
                                     "                                               description=\u0027Get local explanations for Machine test data\u0027)\n",
                                     "\n",
                                     "inference_config = InferenceConfig(runtime= \"python\", \n",
                                     "                                   entry_script=\"score_explain.py\",\n",
                                     "                                   conda_file=\"myenv.yml\")\n",
                                     "\n",
                                     "# Use configs and models generated above\n",
                                     "service = Model.deploy(ws, \u0027model-scoring\u0027, [scoring_explainer_model, original_model], inference_config, aciconfig)\n",
                                     "service.wait_for_deployment(show_output=True)"
                                 ]
                  },
                  {
                      "cell_type":  "markdown",
                      "metadata":  {

                                   },
                      "source":  [
                                     "### View the service logs"
                                 ]
                  },
                  {
                      "cell_type":  "code",
                      "execution_count":  null,
                      "metadata":  {

                                   },
                      "outputs":  [

                                  ],
                      "source":  [
                                     "service.get_logs()"
                                 ]
                  },
                  {
                      "cell_type":  "markdown",
                      "metadata":  {

                                   },
                      "source":  [
                                     "### Inference using some test data\n",
                                     "Inference using some test data to see the predicted value from autml model, view the engineered feature importance for the predicted value and raw feature importance for the predicted value."
                                 ]
                  },
                  {
                      "cell_type":  "code",
                      "execution_count":  null,
                      "metadata":  {

                                   },
                      "outputs":  [

                                  ],
                      "source":  [
                                     "if service.state == \u0027Healthy\u0027:\n",
                                     "    # Serialize the first row of the test data into json\n",
                                     "    X_test_json = X_test[:1].to_json(orient=\u0027records\u0027)\n",
                                     "    print(X_test_json)\n",
                                     "    # Call the service to get the predictions and the engineered and raw explanations\n",
                                     "    output = service.run(X_test_json)\n",
                                     "    # Print the predicted value\n",
                                     "    print(output[\u0027predictions\u0027])\n",
                                     "    # Print the engineered feature importances for the predicted value\n",
                                     "    print(output[\u0027engineered_local_importance_values\u0027])\n",
                                     "    # Print the raw feature importances for the predicted value\n",
                                     "    print(output[\u0027raw_local_importance_values\u0027])"
                                 ]
                  },
                  {
                      "cell_type":  "markdown",
                      "metadata":  {

                                   },
                      "source":  [
                                     "### Delete the service\n",
                                     "Delete the service once you have finished inferencing."
                                 ]
                  },
                  {
                      "cell_type":  "code",
                      "execution_count":  null,
                      "metadata":  {

                                   },
                      "outputs":  [

                                  ],
                      "source":  [
                                     "service.delete()"
                                 ]
                  },
                  {
                      "cell_type":  "markdown",
                      "metadata":  {

                                   },
                      "source":  [
                                     "## Test"
                                 ]
                  },
                  {
                      "cell_type":  "code",
                      "execution_count":  null,
                      "metadata":  {

                                   },
                      "outputs":  [

                                  ],
                      "source":  [
                                     "# preview the first 3 rows of the dataset\n",
                                     "\n",
                                     "test_data = test_data.to_pandas_dataframe()\n",
                                     "y_test = test_data[\u0027ERP\u0027].fillna(0)\n",
                                     "test_data = test_data.drop(\u0027ERP\u0027, 1)\n",
                                     "test_data = test_data.fillna(0)\n",
                                     "\n",
                                     "\n",
                                     "train_data = train_data.to_pandas_dataframe()\n",
                                     "y_train = train_data[\u0027ERP\u0027].fillna(0)\n",
                                     "train_data = train_data.drop(\u0027ERP\u0027, 1)\n",
                                     "train_data = train_data.fillna(0)"
                                 ]
                  },
                  {
                      "cell_type":  "code",
                      "execution_count":  null,
                      "metadata":  {

                                   },
                      "outputs":  [

                                  ],
                      "source":  [
                                     "y_pred_train = fitted_model.predict(train_data)\n",
                                     "y_residual_train = y_train - y_pred_train\n",
                                     "\n",
                                     "y_pred_test = fitted_model.predict(test_data)\n",
                                     "y_residual_test = y_test - y_pred_test"
                                 ]
                  },
                  {
                      "cell_type":  "code",
                      "execution_count":  null,
                      "metadata":  {

                                   },
                      "outputs":  [

                                  ],
                      "source":  [
                                     "%matplotlib inline\n",
                                     "from sklearn.metrics import mean_squared_error, r2_score\n",
                                     "\n",
                                     "# Set up a multi-plot chart.\n",
                                     "f, (a0, a1) = plt.subplots(1, 2, gridspec_kw = {\u0027width_ratios\u0027:[1, 1], \u0027wspace\u0027:0, \u0027hspace\u0027: 0})\n",
                                     "f.suptitle(\u0027Regression Residual Values\u0027, fontsize = 18)\n",
                                     "f.set_figheight(6)\n",
                                     "f.set_figwidth(16)\n",
                                     "\n",
                                     "# Plot residual values of training set.\n",
                                     "a0.axis([0, 360, -100, 100])\n",
                                     "a0.plot(y_residual_train, \u0027bo\u0027, alpha = 0.5)\n",
                                     "a0.plot([-10,360],[0,0], \u0027r-\u0027, lw = 3)\n",
                                     "a0.text(16,170,\u0027RMSE = {0:.2f}\u0027.format(np.sqrt(mean_squared_error(y_train, y_pred_train))), fontsize = 12)\n",
                                     "a0.text(16,140,\u0027R2 score = {0:.2f}\u0027.format(r2_score(y_train, y_pred_train)),fontsize = 12)\n",
                                     "a0.set_xlabel(\u0027Training samples\u0027, fontsize = 12)\n",
                                     "a0.set_ylabel(\u0027Residual Values\u0027, fontsize = 12)\n",
                                     "\n",
                                     "# Plot residual values of test set.\n",
                                     "a1.axis([0, 90, -100, 100])\n",
                                     "a1.plot(y_residual_test, \u0027bo\u0027, alpha = 0.5)\n",
                                     "a1.plot([-10,360],[0,0], \u0027r-\u0027, lw = 3)\n",
                                     "a1.text(5,170,\u0027RMSE = {0:.2f}\u0027.format(np.sqrt(mean_squared_error(y_test, y_pred_test))), fontsize = 12)\n",
                                     "a1.text(5,140,\u0027R2 score = {0:.2f}\u0027.format(r2_score(y_test, y_pred_test)),fontsize = 12)\n",
                                     "a1.set_xlabel(\u0027Test samples\u0027, fontsize = 12)\n",
                                     "a1.set_yticklabels([])\n",
                                     "\n",
                                     "plt.show()"
                                 ]
                  },
                  {
                      "cell_type":  "code",
                      "execution_count":  null,
                      "metadata":  {

                                   },
                      "outputs":  [

                                  ],
                      "source":  [
                                     "%matplotlib inline\n",
                                     "test_pred = plt.scatter(y_test, y_pred_test, color=\u0027\u0027)\n",
                                     "test_test = plt.scatter(y_test, y_test, color=\u0027g\u0027)\n",
                                     "plt.legend((test_pred, test_test), (\u0027prediction\u0027, \u0027truth\u0027), loc=\u0027upper left\u0027, fontsize=8)\n",
                                     "plt.show()"
                                 ]
                  }
              ],
    "metadata":  {
                     "authors":  [
                                     {
                                         "name":  "anumamah"
                                     }
                                 ],
                     "categories":  [
                                        "how-to-use-azureml",
                                        "automated-machine-learning"
                                    ],
                     "category":  "tutorial",
                     "compute":  [
                                     "AML"
                                 ],
                     "datasets":  [
                                      "MachineData"
                                  ],
                     "deployment":  [
                                        "ACI"
                                    ],
                     "exclude_from_index":  false,
                     "framework":  [
                                       "None"
                                   ],
                     "friendly_name":  "Automated ML run with featurization and model explainability.",
                     "index_order":  5,
                     "kernelspec":  {
                                        "display_name":  "Python 3.6 - AzureML",
                                        "language":  "python",
                                        "name":  "python3-azureml"
                                    },
                     "language_info":  {
                                           "codemirror_mode":  {
                                                                   "name":  "ipython",
                                                                   "version":  3
                                                               },
                                           "file_extension":  ".py",
                                           "mimetype":  "text/x-python",
                                           "name":  "python",
                                           "nbconvert_exporter":  "python",
                                           "pygments_lexer":  "ipython3",
                                           "version":  "3.6.7"
                                       },
                     "tags":  [
                                  "featurization",
                                  "explainability",
                                  "remote_run",
                                  "AutomatedML"
                              ],
                     "task":  "Regression"
                 },
    "nbformat":  4,
    "nbformat_minor":  2
}