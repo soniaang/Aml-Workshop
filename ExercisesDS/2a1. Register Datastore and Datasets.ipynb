{
 "cells": [
  {
   "cell_type": "code",
   "execution_count": null,
   "metadata": {},
   "outputs": [],
   "source": [
    "import azureml.core\n",
    "from azureml.core import Workspace, Datastore, Dataset\n",
    "print(azureml.core.VERSION)"
   ]
  },
  {
   "cell_type": "code",
   "execution_count": null,
   "metadata": {},
   "outputs": [],
   "source": [
    "amlworkspace = Workspace.from_config()"
   ]
  },
  {
   "cell_type": "code",
   "execution_count": null,
   "metadata": {},
   "outputs": [],
   "source": [
    "amlworkspace.get_details()"
   ]
  },
  {
   "cell_type": "code",
   "execution_count": null,
   "metadata": {},
   "outputs": [],
   "source": [
    "amlworkspace.datastores"
   ]
  },
  {
   "cell_type": "code",
   "execution_count": null,
   "metadata": {},
   "outputs": [],
   "source": [
    "from msrest.exceptions import HttpOperationError\n",
    "   \n",
    "datastore_name = ''\n",
    "account_name = ''\n",
    "container_name = ''\n",
    "account_key=''\n",
    "    \n",
    "try:\n",
    "    blob_datastore = Datastore.get(amlworkspace, datastore_name)\n",
    "    print(\"Found Blob Datastore with name: %s\" % datastore_name)\n",
    "\n",
    "except HttpOperationError:\n",
    "       blob_datastore = Datastore.register_azure_blob_container(\n",
    "           workspace=amlworkspace,\n",
    "           datastore_name=datastore_name,\n",
    "           account_name=account_name, # Storage account name\n",
    "           container_name=container_name, # Name of Azure blob container\n",
    "           account_key=account_key) # Storage account key\n",
    "       print(\"Registered blob datastore with name: %s\" % datastore_name)\n",
    "    \n",
    "    "
   ]
  },
  {
   "cell_type": "code",
   "execution_count": null,
   "metadata": {},
   "outputs": [],
   "source": [
    "amlworkspace.datastores"
   ]
  },
  {
   "cell_type": "code",
   "execution_count": null,
   "metadata": {},
   "outputs": [],
   "source": [
    "Dataset.get_all(amlworkspace)"
   ]
  },
  {
   "cell_type": "code",
   "execution_count": null,
   "metadata": {},
   "outputs": [],
   "source": [
    "# from azureml.core import Dataset\n",
    "# dataset = Dataset.Tabular.from_delimited_files(path = [(blob_datastore, 'train_data/iris.csv')])\n",
    "\n",
    "# # preview the first 3 rows of the dataset\n",
    "# dataset.take(3).to_pandas_dataframe()"
   ]
  },
  {
   "cell_type": "code",
   "execution_count": null,
   "metadata": {},
   "outputs": [],
   "source": [
    "train_data = Dataset.Tabular.from_delimited_files(path=blob_datastore.path('iris.csv'))"
   ]
  },
  {
   "cell_type": "code",
   "execution_count": null,
   "metadata": {},
   "outputs": [],
   "source": [
    "pd_train_data = train_data.to_pandas_dataframe()\n",
    "pd_train_data.head(2)"
   ]
  },
  {
   "cell_type": "code",
   "execution_count": null,
   "metadata": {},
   "outputs": [],
   "source": [
    "pd_train_data.shape"
   ]
  },
  {
   "cell_type": "code",
   "execution_count": null,
   "metadata": {},
   "outputs": [],
   "source": [
    "# train_data_registered = Dataset.get_by_name(amlworkspace,\"train_data\",version='latest')\n",
    "#train_data_registered.unregister_all_versions()\n",
    "\n",
    "train_data_registered = train_data.register(workspace=amlworkspace,\n",
    "                                 name='iris_data',\n",
    "                                 description='iris training data',\n",
    "                                 tags= {'type': 'iris', 'date':'2020'},\n",
    "                                 create_new_version=False)"
   ]
  },
  {
   "cell_type": "code",
   "execution_count": null,
   "metadata": {},
   "outputs": [],
   "source": [
    "train_data_registered.to_pandas_dataframe().head(2)"
   ]
  },
  {
   "cell_type": "code",
   "execution_count": null,
   "metadata": {},
   "outputs": [],
   "source": [
    "data = Dataset.get_by_name(amlworkspace,\"iris_data\",version='latest')\n"
   ]
  },
  {
   "cell_type": "code",
   "execution_count": null,
   "metadata": {},
   "outputs": [],
   "source": [
    "data.to_pandas_dataframe().shape"
   ]
  },
  {
   "cell_type": "code",
   "execution_count": null,
   "metadata": {},
   "outputs": [],
   "source": []
  }
 ],
 "metadata": {
  "kernelspec": {
   "display_name": "Python 3.6 - AzureML",
   "language": "python",
   "name": "python3-azureml"
  },
  "language_info": {
   "codemirror_mode": {
    "name": "ipython",
    "version": 3
   },
   "file_extension": ".py",
   "mimetype": "text/x-python",
   "name": "python",
   "nbconvert_exporter": "python",
   "pygments_lexer": "ipython3",
   "version": "3.6.9"
  },
  "name": "2. Configuration - Datastore and Dataset",
  "notebookId": 1784458533162531
 },
 "nbformat": 4,
 "nbformat_minor": 1
}
