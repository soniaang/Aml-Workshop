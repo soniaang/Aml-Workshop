{
 "cells": [
  {
   "cell_type": "code",
   "execution_count": 1,
   "metadata": {},
   "outputs": [],
   "source": [
    "import azureml.core\n",
    "import pandas as pd\n",
    "import numpy as np\n",
    "import logging\n",
    "\n",
    "from azureml.core.workspace import Workspace\n",
    "from azureml.core.experiment import Experiment\n",
    "from azureml.train.automl import AutoMLConfig\n",
    "\n",
    "#get existing workspace\n",
    "ws = Workspace.from_config()\n",
    "ws"
   ]
  },
  {
   "cell_type": "code",
   "execution_count": 2,
   "metadata": {},
   "outputs": [
    {
     "name": "stdout",
     "output_type": "stream",
     "text": [
      "found compute target. just use it. amlcluster\n"
     ]
    }
   ],
   "source": [
    "from azureml.core.compute import AmlCompute\n",
    "from azureml.core.compute import ComputeTarget\n",
    "import os\n",
    "\n",
    "# choose a name for your cluster\n",
    "#compute_name = os.environ.get('AML_COMPUTE_CLUSTER_NAME', 'cpu-cluster')\n",
    "compute_name = 'amlcluster'\n",
    "#compute_min_nodes = os.environ.get('AML_COMPUTE_CLUSTER_MIN_NODES', 0)\n",
    "compute_min_nodes = 0\n",
    "#compute_max_nodes = os.environ.get('AML_COMPUTE_CLUSTER_MAX_NODES', 4)\n",
    "compute_max_nodes = 4\n",
    "\n",
    "# This example uses CPU VM. For using GPU VM, set SKU to STANDARD_NC6\n",
    "#vm_size = os.environ.get('AML_COMPUTE_CLUSTER_SKU', 'STANDARD_D2_V2')\n",
    "vm_size = 'STANDARD_D2_V2'\n",
    "\n",
    "if compute_name in ws.compute_targets:\n",
    "    compute_target = ws.compute_targets[compute_name]\n",
    "    if compute_target and type(compute_target) is AmlCompute:\n",
    "        print('found compute target. just use it. ' + compute_name)\n",
    "else:\n",
    "    print('creating a new compute target...')\n",
    "    provisioning_config = AmlCompute.provisioning_configuration(vm_size=vm_size,\n",
    "                                                                min_nodes=compute_min_nodes, \n",
    "                                                                max_nodes=compute_max_nodes)\n",
    "\n",
    "    # create the cluster\n",
    "    compute_target = ComputeTarget.create(ws, compute_name, provisioning_config)\n",
    "    \n",
    "    # can poll for a minimum number of nodes and for a specific timeout. \n",
    "    # if no min node count is provided it will use the scale settings for the cluster\n",
    "    compute_target.wait_for_completion(show_output=True, min_node_count=None, timeout_in_minutes=20)\n",
    "    \n",
    "     # For a more detailed view of current AmlCompute status, use get_status()\n",
    "    print(compute_target.get_status().serialize())"
   ]
  },
  {
   "cell_type": "code",
   "execution_count": 3,
   "metadata": {},
   "outputs": [
    {
     "data": {
      "text/plain": [
       "(150, 5)"
      ]
     },
     "execution_count": 3,
     "metadata": {},
     "output_type": "execute_result"
    }
   ],
   "source": [
    "from azureml.core.dataset import Dataset\n",
    "\n",
    "train_data = Dataset.get_by_name(ws,\"iris\")\n",
    "\n",
    "pdtrain_data = train_data.to_pandas_dataframe()\n",
    "\n",
    "pdtrain_data.shape"
   ]
  },
  {
   "cell_type": "code",
   "execution_count": 5,
   "metadata": {},
   "outputs": [
    {
     "name": "stdout",
     "output_type": "stream",
     "text": [
      "Running on remote compute: amlcluster\n",
      "Parent Run ID: AutoML_c29683ec-b226-4f7d-84f7-0835d791949c\n",
      "\n",
      "Current status: FeaturesGeneration. Generating features for the dataset.\n",
      "Current status: ModelSelection. Beginning model selection.\n",
      "\n",
      "****************************************************************************************************\n",
      "ITERATION: The iteration being evaluated.\n",
      "PIPELINE: A summary description of the pipeline being evaluated.\n",
      "DURATION: Time taken for the current iteration.\n",
      "METRIC: The result of computing score on the fitted pipeline.\n",
      "BEST: The best observed score thus far.\n",
      "****************************************************************************************************\n",
      "\n",
      " ITERATION   PIPELINE                                       DURATION      METRIC      BEST\n",
      "         3   MinMaxScaler RandomForest                      0:10:05       0.9556    0.9556\n",
      "         2   MinMaxScaler SGD                               0:05:58       0.6667    0.9556\n",
      "         1   StandardScalerWrapper SGD                      0:04:15       0.9111    0.9556\n",
      "         0   StandardScalerWrapper SGD                      0:02:11       0.7556    0.9556\n",
      "         7   MinMaxScaler RandomForest                      0:01:53       0.9556    0.9556\n",
      "         6   StandardScalerWrapper ExtremeRandomTrees       0:02:09       0.9778    0.9778\n",
      "         5                                                  0:05:47          nan    0.9778\n",
      "         4   StandardScalerWrapper RandomForest             0:07:52       0.9333    0.9778\n",
      "         9   StackEnsemble                                  0:02:15       0.9778    0.9778\n",
      "         8   VotingEnsemble                                 0:02:32       0.9778    0.9778\n"
     ]
    }
   ],
   "source": [
    "from azureml.core.workspace import Workspace\n",
    "from azureml.core.experiment import Experiment\n",
    "from azureml.train.automl import AutoMLConfig\n",
    "\n",
    "import logging\n",
    "\n",
    "experiment_name = 'iris-automl'\n",
    "\n",
    "target_column_name = 'species'\n",
    "\n",
    "experiment = Experiment(ws, experiment_name)\n",
    "\n",
    "automl_config = AutoMLConfig(task='classification',\n",
    "                             debug_log='automl_debug_logs.log',\n",
    "                             primary_metric='accuracy',\n",
    "                             experiment_timeout_minutes=10,\n",
    "                             preprocess=True,\n",
    "                             max_concurrent_iterations=4,\n",
    "                             max_cores_per_iteration=-1,\n",
    "                             enable_dnn=True,\n",
    "                             enable_early_stopping=True,\n",
    "                             validation_size=0.3,\n",
    "                             verbosity = logging.INFO,                             \n",
    "                             compute_target=compute_target,\n",
    "                             training_data=train_data,\n",
    "                             label_column_name=target_column_name)\n",
    "\n",
    "remote_run = experiment.submit(automl_config, show_output=True)\n"
   ]
  },
  {
   "cell_type": "code",
   "execution_count": 6,
   "metadata": {},
   "outputs": [
    {
     "data": {
      "application/vnd.jupyter.widget-view+json": {
       "model_id": "5388bf94a46046d785a609cebc68d7cc",
       "version_major": 2,
       "version_minor": 0
      },
      "text/plain": [
       "_AutoMLWidget(widget_settings={'childWidgetDisplay': 'popup', 'send_telemetry': False, 'log_level': 'INFO', 's…"
      ]
     },
     "metadata": {},
     "output_type": "display_data"
    },
    {
     "data": {
      "application/aml.mini.widget.v1": "{\"status\": \"Completed\", \"workbench_run_details_uri\": \"https://ml.azure.com/experiments/iris-automl/runs/AutoML_c29683ec-b226-4f7d-84f7-0835d791949c?wsid=/subscriptions/08d28dbf-1252-4438-b3be-0188e3803935/resourcegroups/AMLGRP2020/workspaces/AMLWKSP2020\", \"run_id\": \"AutoML_c29683ec-b226-4f7d-84f7-0835d791949c\", \"run_properties\": {\"run_id\": \"AutoML_c29683ec-b226-4f7d-84f7-0835d791949c\", \"created_utc\": \"2020-01-27T20:16:42.783608Z\", \"properties\": {\"num_iterations\": \"1000\", \"training_type\": \"TrainFull\", \"acquisition_function\": \"EI\", \"primary_metric\": \"accuracy\", \"train_split\": \"0.3\", \"MaxTimeSeconds\": \"0\", \"acquisition_parameter\": \"0\", \"num_cross_validation\": null, \"target\": \"amlcluster\", \"RawAMLSettingsString\": \"{'name': 'iris-automl', 'path': None, 'subscription_id': '08d28dbf-1252-4438-b3be-0188e3803935', 'resource_group': 'AMLGRP2020', 'workspace_name': 'AMLWKSP2020', 'region': 'westus', 'compute_target': 'amlcluster', 'spark_service': None, 'azure_service': None, 'iterations': 1000, 'primary_metric': 'accuracy', 'task_type': 'classification', 'data_script': None, 'validation_size': 0.3, 'n_cross_validations': None, 'y_min': None, 'y_max': None, 'num_classes': None, 'featurization': 'auto', 'preprocess': True, 'lag_length': 0, 'is_timeseries': False, 'max_cores_per_iteration': -1, 'max_concurrent_iterations': 4, 'iteration_timeout_minutes': None, 'mem_in_mb': None, 'enforce_time_on_windows': False, 'experiment_timeout_minutes': 10, 'experiment_exit_score': None, 'whitelist_models': None, 'blacklist_algos': ['XGBoostClassifier', 'Prophet'], 'supported_models': ['SGD', 'DecisionTree', 'AveragedPerceptronClassifier', 'RandomForest', 'TensorFlowLinearClassifier', 'XGBoostClassifier', 'LinearSVMClassifier', 'GradientBoosting', 'TensorFlowDNN', 'LightGBM', 'ExtremeRandomTrees', 'BernoulliNaiveBayes', 'KNN', 'MultinomialNaiveBayes', 'SVM', 'LinearSVM', 'LogisticRegression'], 'auto_blacklist': True, 'blacklist_samples_reached': False, 'exclude_nan_labels': True, 'verbosity': 20, 'debug_log': 'azureml_automl.log', 'show_warnings': False, 'model_explainability': False, 'service_url': None, 'sdk_url': None, 'sdk_packages': None, 'enable_onnx_compatible_models': False, 'enable_split_onnx_featurizer_estimator_models': False, 'vm_type': 'STANDARD_D2_V2', 'telemetry_verbosity': 'INFO', 'send_telemetry': True, 'enable_dnn': True, 'force_text_dnn': False, 'enable_feature_sweeping': True, 'enable_early_stopping': True, 'early_stopping_n_iters': 10, 'metrics': None, 'enable_ensembling': True, 'enable_stack_ensembling': True, 'ensemble_iterations': 15, 'enable_tf': False, 'enable_cache': True, 'enable_subsampling': None, 'subsample_seed': None, 'enable_nimbusml': False, 'enable_streaming': False, 'label_column_name': 'species', 'weight_column_name': None, 'cost_mode': 0, 'metric_operation': 'maximize'}\", \"AMLSettingsJsonString\": \"{\\\"name\\\": \\\"iris-automl\\\", \\\"path\\\": null, \\\"subscription_id\\\": \\\"08d28dbf-1252-4438-b3be-0188e3803935\\\", \\\"resource_group\\\": \\\"AMLGRP2020\\\", \\\"workspace_name\\\": \\\"AMLWKSP2020\\\", \\\"region\\\": \\\"westus\\\", \\\"compute_target\\\": \\\"amlcluster\\\", \\\"spark_service\\\": null, \\\"azure_service\\\": null, \\\"iterations\\\": 1000, \\\"primary_metric\\\": \\\"accuracy\\\", \\\"task_type\\\": \\\"classification\\\", \\\"data_script\\\": null, \\\"validation_size\\\": 0.3, \\\"n_cross_validations\\\": null, \\\"y_min\\\": null, \\\"y_max\\\": null, \\\"num_classes\\\": null, \\\"featurization\\\": \\\"auto\\\", \\\"preprocess\\\": true, \\\"lag_length\\\": 0, \\\"is_timeseries\\\": false, \\\"max_cores_per_iteration\\\": -1, \\\"max_concurrent_iterations\\\": 4, \\\"iteration_timeout_minutes\\\": null, \\\"mem_in_mb\\\": null, \\\"enforce_time_on_windows\\\": false, \\\"experiment_timeout_minutes\\\": 10, \\\"experiment_exit_score\\\": null, \\\"whitelist_models\\\": null, \\\"blacklist_algos\\\": [\\\"XGBoostClassifier\\\", \\\"Prophet\\\"], \\\"supported_models\\\": [\\\"SGD\\\", \\\"DecisionTree\\\", \\\"AveragedPerceptronClassifier\\\", \\\"RandomForest\\\", \\\"TensorFlowLinearClassifier\\\", \\\"XGBoostClassifier\\\", \\\"LinearSVMClassifier\\\", \\\"GradientBoosting\\\", \\\"TensorFlowDNN\\\", \\\"LightGBM\\\", \\\"ExtremeRandomTrees\\\", \\\"BernoulliNaiveBayes\\\", \\\"KNN\\\", \\\"MultinomialNaiveBayes\\\", \\\"SVM\\\", \\\"LinearSVM\\\", \\\"LogisticRegression\\\"], \\\"auto_blacklist\\\": true, \\\"blacklist_samples_reached\\\": false, \\\"exclude_nan_labels\\\": true, \\\"verbosity\\\": 20, \\\"debug_log\\\": \\\"azureml_automl.log\\\", \\\"show_warnings\\\": false, \\\"model_explainability\\\": false, \\\"service_url\\\": null, \\\"sdk_url\\\": null, \\\"sdk_packages\\\": null, \\\"enable_onnx_compatible_models\\\": false, \\\"enable_split_onnx_featurizer_estimator_models\\\": false, \\\"vm_type\\\": \\\"STANDARD_D2_V2\\\", \\\"telemetry_verbosity\\\": \\\"INFO\\\", \\\"send_telemetry\\\": true, \\\"enable_dnn\\\": true, \\\"force_text_dnn\\\": false, \\\"enable_feature_sweeping\\\": true, \\\"enable_early_stopping\\\": true, \\\"early_stopping_n_iters\\\": 10, \\\"metrics\\\": null, \\\"enable_ensembling\\\": true, \\\"enable_stack_ensembling\\\": true, \\\"ensemble_iterations\\\": 15, \\\"enable_tf\\\": false, \\\"enable_cache\\\": true, \\\"enable_subsampling\\\": null, \\\"subsample_seed\\\": null, \\\"enable_nimbusml\\\": false, \\\"enable_streaming\\\": false, \\\"label_column_name\\\": \\\"species\\\", \\\"weight_column_name\\\": null, \\\"cost_mode\\\": 0, \\\"metric_operation\\\": \\\"maximize\\\"}\", \"DataPrepJsonString\": \"{\\\\\\\"training_data\\\\\\\": \\\\\\\"{\\\\\\\\\\\\\\\"blocks\\\\\\\\\\\\\\\": [{\\\\\\\\\\\\\\\"id\\\\\\\\\\\\\\\": \\\\\\\\\\\\\\\"7d8b16db-8c2d-44ce-ab70-a25f6510eb36\\\\\\\\\\\\\\\", \\\\\\\\\\\\\\\"type\\\\\\\\\\\\\\\": \\\\\\\\\\\\\\\"Microsoft.DPrep.GetDatastoreFilesBlock\\\\\\\\\\\\\\\", \\\\\\\\\\\\\\\"arguments\\\\\\\\\\\\\\\": {\\\\\\\\\\\\\\\"datastores\\\\\\\\\\\\\\\": [{\\\\\\\\\\\\\\\"datastoreName\\\\\\\\\\\\\\\": \\\\\\\\\\\\\\\"workspaceblobstore\\\\\\\\\\\\\\\", \\\\\\\\\\\\\\\"path\\\\\\\\\\\\\\\": \\\\\\\\\\\\\\\"UI/01-25-2020_034029_UTC/iris.csv\\\\\\\\\\\\\\\", \\\\\\\\\\\\\\\"resourceGroup\\\\\\\\\\\\\\\": \\\\\\\\\\\\\\\"AMLGRP2020\\\\\\\\\\\\\\\", \\\\\\\\\\\\\\\"subscription\\\\\\\\\\\\\\\": \\\\\\\\\\\\\\\"08d28dbf-1252-4438-b3be-0188e3803935\\\\\\\\\\\\\\\", \\\\\\\\\\\\\\\"workspaceName\\\\\\\\\\\\\\\": \\\\\\\\\\\\\\\"AMLWKSP2020\\\\\\\\\\\\\\\"}]}, \\\\\\\\\\\\\\\"localData\\\\\\\\\\\\\\\": {}, \\\\\\\\\\\\\\\"isEnabled\\\\\\\\\\\\\\\": true, \\\\\\\\\\\\\\\"name\\\\\\\\\\\\\\\": null, \\\\\\\\\\\\\\\"annotation\\\\\\\\\\\\\\\": null}, {\\\\\\\\\\\\\\\"id\\\\\\\\\\\\\\\": \\\\\\\\\\\\\\\"f0457857-1c4b-420f-9309-210143e2d1ea\\\\\\\\\\\\\\\", \\\\\\\\\\\\\\\"type\\\\\\\\\\\\\\\": \\\\\\\\\\\\\\\"Microsoft.DPrep.ParseDelimitedBlock\\\\\\\\\\\\\\\", \\\\\\\\\\\\\\\"arguments\\\\\\\\\\\\\\\": {\\\\\\\\\\\\\\\"columnHeadersMode\\\\\\\\\\\\\\\": 3, \\\\\\\\\\\\\\\"commentLineCharacter\\\\\\\\\\\\\\\": \\\\\\\\\\\\\\\"\\\\\\\\\\\\\\\\u0000\\\\\\\\\\\\\\\", \\\\\\\\\\\\\\\"fileEncoding\\\\\\\\\\\\\\\": 0, \\\\\\\\\\\\\\\"handleQuotedLineBreaks\\\\\\\\\\\\\\\": false, \\\\\\\\\\\\\\\"preview\\\\\\\\\\\\\\\": false, \\\\\\\\\\\\\\\"separator\\\\\\\\\\\\\\\": \\\\\\\\\\\\\\\",\\\\\\\\\\\\\\\", \\\\\\\\\\\\\\\"skipRows\\\\\\\\\\\\\\\": 0, \\\\\\\\\\\\\\\"skipRowsMode\\\\\\\\\\\\\\\": 0}, \\\\\\\\\\\\\\\"localData\\\\\\\\\\\\\\\": {}, \\\\\\\\\\\\\\\"isEnabled\\\\\\\\\\\\\\\": true, \\\\\\\\\\\\\\\"name\\\\\\\\\\\\\\\": null, \\\\\\\\\\\\\\\"annotation\\\\\\\\\\\\\\\": null}, {\\\\\\\\\\\\\\\"id\\\\\\\\\\\\\\\": \\\\\\\\\\\\\\\"b045ec8d-791f-4c38-ba00-e4135bb9bc85\\\\\\\\\\\\\\\", \\\\\\\\\\\\\\\"type\\\\\\\\\\\\\\\": \\\\\\\\\\\\\\\"Microsoft.DPrep.DropColumnsBlock\\\\\\\\\\\\\\\", \\\\\\\\\\\\\\\"arguments\\\\\\\\\\\\\\\": {\\\\\\\\\\\\\\\"columns\\\\\\\\\\\\\\\": {\\\\\\\\\\\\\\\"type\\\\\\\\\\\\\\\": 0, \\\\\\\\\\\\\\\"details\\\\\\\\\\\\\\\": {\\\\\\\\\\\\\\\"selectedColumns\\\\\\\\\\\\\\\": [\\\\\\\\\\\\\\\"Path\\\\\\\\\\\\\\\"]}}}, \\\\\\\\\\\\\\\"localData\\\\\\\\\\\\\\\": {}, \\\\\\\\\\\\\\\"isEnabled\\\\\\\\\\\\\\\": true, \\\\\\\\\\\\\\\"name\\\\\\\\\\\\\\\": null, \\\\\\\\\\\\\\\"annotation\\\\\\\\\\\\\\\": null}, {\\\\\\\\\\\\\\\"id\\\\\\\\\\\\\\\": \\\\\\\\\\\\\\\"139c1b14-f29d-4071-8365-26bc37c61b73\\\\\\\\\\\\\\\", \\\\\\\\\\\\\\\"type\\\\\\\\\\\\\\\": \\\\\\\\\\\\\\\"Microsoft.DPrep.SetColumnTypesBlock\\\\\\\\\\\\\\\", \\\\\\\\\\\\\\\"arguments\\\\\\\\\\\\\\\": {\\\\\\\\\\\\\\\"columnConversion\\\\\\\\\\\\\\\": [{\\\\\\\\\\\\\\\"column\\\\\\\\\\\\\\\": {\\\\\\\\\\\\\\\"type\\\\\\\\\\\\\\\": 2, \\\\\\\\\\\\\\\"details\\\\\\\\\\\\\\\": {\\\\\\\\\\\\\\\"selectedColumn\\\\\\\\\\\\\\\": \\\\\\\\\\\\\\\"Path\\\\\\\\\\\\\\\"}}, \\\\\\\\\\\\\\\"typeProperty\\\\\\\\\\\\\\\": 0}, {\\\\\\\\\\\\\\\"column\\\\\\\\\\\\\\\": {\\\\\\\\\\\\\\\"type\\\\\\\\\\\\\\\": 2, \\\\\\\\\\\\\\\"details\\\\\\\\\\\\\\\": {\\\\\\\\\\\\\\\"selectedColumn\\\\\\\\\\\\\\\": \\\\\\\\\\\\\\\"sepal_length\\\\\\\\\\\\\\\"}}, \\\\\\\\\\\\\\\"typeProperty\\\\\\\\\\\\\\\": 3}, {\\\\\\\\\\\\\\\"column\\\\\\\\\\\\\\\": {\\\\\\\\\\\\\\\"type\\\\\\\\\\\\\\\": 2, \\\\\\\\\\\\\\\"details\\\\\\\\\\\\\\\": {\\\\\\\\\\\\\\\"selectedColumn\\\\\\\\\\\\\\\": \\\\\\\\\\\\\\\"sepal_width\\\\\\\\\\\\\\\"}}, \\\\\\\\\\\\\\\"typeProperty\\\\\\\\\\\\\\\": 3}, {\\\\\\\\\\\\\\\"column\\\\\\\\\\\\\\\": {\\\\\\\\\\\\\\\"type\\\\\\\\\\\\\\\": 2, \\\\\\\\\\\\\\\"details\\\\\\\\\\\\\\\": {\\\\\\\\\\\\\\\"selectedColumn\\\\\\\\\\\\\\\": \\\\\\\\\\\\\\\"petal_length\\\\\\\\\\\\\\\"}}, \\\\\\\\\\\\\\\"typeProperty\\\\\\\\\\\\\\\": 3}, {\\\\\\\\\\\\\\\"column\\\\\\\\\\\\\\\": {\\\\\\\\\\\\\\\"type\\\\\\\\\\\\\\\": 2, \\\\\\\\\\\\\\\"details\\\\\\\\\\\\\\\": {\\\\\\\\\\\\\\\"selectedColumn\\\\\\\\\\\\\\\": \\\\\\\\\\\\\\\"petal_width\\\\\\\\\\\\\\\"}}, \\\\\\\\\\\\\\\"typeProperty\\\\\\\\\\\\\\\": 3}, {\\\\\\\\\\\\\\\"column\\\\\\\\\\\\\\\": {\\\\\\\\\\\\\\\"type\\\\\\\\\\\\\\\": 2, \\\\\\\\\\\\\\\"details\\\\\\\\\\\\\\\": {\\\\\\\\\\\\\\\"selectedColumn\\\\\\\\\\\\\\\": \\\\\\\\\\\\\\\"species\\\\\\\\\\\\\\\"}}, \\\\\\\\\\\\\\\"typeProperty\\\\\\\\\\\\\\\": 0}]}, \\\\\\\\\\\\\\\"localData\\\\\\\\\\\\\\\": {}, \\\\\\\\\\\\\\\"isEnabled\\\\\\\\\\\\\\\": true, \\\\\\\\\\\\\\\"name\\\\\\\\\\\\\\\": null, \\\\\\\\\\\\\\\"annotation\\\\\\\\\\\\\\\": null}], \\\\\\\\\\\\\\\"inspectors\\\\\\\\\\\\\\\": [], \\\\\\\\\\\\\\\"meta\\\\\\\\\\\\\\\": {\\\\\\\\\\\\\\\"savedDatasetId\\\\\\\\\\\\\\\": \\\\\\\\\\\\\\\"96c23205-3b22-43aa-9065-d1757ae84495\\\\\\\\\\\\\\\", \\\\\\\\\\\\\\\"datasetType\\\\\\\\\\\\\\\": \\\\\\\\\\\\\\\"tabular\\\\\\\\\\\\\\\", \\\\\\\\\\\\\\\"subscriptionId\\\\\\\\\\\\\\\": \\\\\\\\\\\\\\\"08d28dbf-1252-4438-b3be-0188e3803935\\\\\\\\\\\\\\\", \\\\\\\\\\\\\\\"workspaceId\\\\\\\\\\\\\\\": \\\\\\\\\\\\\\\"02726733-3a2c-4bd5-9747-373ac797e98a\\\\\\\\\\\\\\\", \\\\\\\\\\\\\\\"workspaceLocation\\\\\\\\\\\\\\\": \\\\\\\\\\\\\\\"westus\\\\\\\\\\\\\\\"}}\\\\\\\", \\\\\\\"activities\\\\\\\": 0}\", \"EnableSubsampling\": null, \"Properties\": \"[display_task_type, classification],[dependencies_versions, {\\\"azureml-widgets\\\": \\\"1.0.83\\\", \\\"azureml-train\\\": \\\"1.0.83\\\", \\\"azureml-train-restclients-hyperdrive\\\": \\\"1.0.83\\\", \\\"azureml-train-core\\\": \\\"1.0.83\\\", \\\"azureml-train-automl\\\": \\\"1.0.83\\\", \\\"azureml-train-automl-runtime\\\": \\\"1.0.83.1\\\", \\\"azureml-train-automl-client\\\": \\\"1.0.83\\\", \\\"azureml-tensorboard\\\": \\\"1.0.83\\\", \\\"azureml-telemetry\\\": \\\"1.0.83\\\", \\\"azureml-sdk\\\": \\\"1.0.83\\\", \\\"azureml-samples\\\": \\\"0+unknown\\\", \\\"azureml-pipeline\\\": \\\"1.0.83\\\", \\\"azureml-pipeline-steps\\\": \\\"1.0.83\\\", \\\"azureml-pipeline-core\\\": \\\"1.0.83\\\", \\\"azureml-opendatasets\\\": \\\"1.0.83\\\", \\\"azureml-model-management-sdk\\\": \\\"1.0.1b6.post1\\\", \\\"azureml-mlflow\\\": \\\"1.0.83\\\", \\\"azureml-interpret\\\": \\\"1.0.83\\\", \\\"azureml-explain-model\\\": \\\"1.0.83\\\", \\\"azureml-defaults\\\": \\\"1.0.83\\\", \\\"azureml-dataprep\\\": \\\"1.1.35\\\", \\\"azureml-dataprep-native\\\": \\\"13.2.0\\\", \\\"azureml-datadrift\\\": \\\"1.0.83\\\", \\\"azureml-core\\\": \\\"1.0.83\\\", \\\"azureml-contrib-services\\\": \\\"1.0.83\\\", \\\"azureml-contrib-server\\\": \\\"1.0.83\\\", \\\"azureml-contrib-reinforcementlearning\\\": \\\"1.0.83\\\", \\\"azureml-contrib-pipeline-steps\\\": \\\"1.0.83\\\", \\\"azureml-contrib-notebook\\\": \\\"1.0.83\\\", \\\"azureml-contrib-interpret\\\": \\\"1.0.83\\\", \\\"azureml-contrib-datadrift\\\": \\\"1.0.83\\\", \\\"azureml-automl-runtime\\\": \\\"1.0.83\\\", \\\"azureml-automl-core\\\": \\\"1.0.83.1\\\"}]\", \"runTemplate\": \"AutoML\", \"azureml.runsource\": \"automl\", \"display_task_type\": \"classification\", \"dependencies_versions\": \"{\\\"azureml-widgets\\\": \\\"1.0.83\\\", \\\"azureml-train\\\": \\\"1.0.83\\\", \\\"azureml-train-restclients-hyperdrive\\\": \\\"1.0.83\\\", \\\"azureml-train-core\\\": \\\"1.0.83\\\", \\\"azureml-train-automl\\\": \\\"1.0.83\\\", \\\"azureml-train-automl-runtime\\\": \\\"1.0.83.1\\\", \\\"azureml-train-automl-client\\\": \\\"1.0.83\\\", \\\"azureml-tensorboard\\\": \\\"1.0.83\\\", \\\"azureml-telemetry\\\": \\\"1.0.83\\\", \\\"azureml-sdk\\\": \\\"1.0.83\\\", \\\"azureml-samples\\\": \\\"0+unknown\\\", \\\"azureml-pipeline\\\": \\\"1.0.83\\\", \\\"azureml-pipeline-steps\\\": \\\"1.0.83\\\", \\\"azureml-pipeline-core\\\": \\\"1.0.83\\\", \\\"azureml-opendatasets\\\": \\\"1.0.83\\\", \\\"azureml-model-management-sdk\\\": \\\"1.0.1b6.post1\\\", \\\"azureml-mlflow\\\": \\\"1.0.83\\\", \\\"azureml-interpret\\\": \\\"1.0.83\\\", \\\"azureml-explain-model\\\": \\\"1.0.83\\\", \\\"azureml-defaults\\\": \\\"1.0.83\\\", \\\"azureml-dataprep\\\": \\\"1.1.35\\\", \\\"azureml-dataprep-native\\\": \\\"13.2.0\\\", \\\"azureml-datadrift\\\": \\\"1.0.83\\\", \\\"azureml-core\\\": \\\"1.0.83\\\", \\\"azureml-contrib-services\\\": \\\"1.0.83\\\", \\\"azureml-contrib-server\\\": \\\"1.0.83\\\", \\\"azureml-contrib-reinforcementlearning\\\": \\\"1.0.83\\\", \\\"azureml-contrib-pipeline-steps\\\": \\\"1.0.83\\\", \\\"azureml-contrib-notebook\\\": \\\"1.0.83\\\", \\\"azureml-contrib-interpret\\\": \\\"1.0.83\\\", \\\"azureml-contrib-datadrift\\\": \\\"1.0.83\\\", \\\"azureml-automl-runtime\\\": \\\"1.0.83\\\", \\\"azureml-automl-core\\\": \\\"1.0.83.1\\\"}\", \"ClientType\": \"SDK\", \"ClientSdkVersion\": \"1.0.83\", \"snapshotId\": \"\", \"SetupRunId\": \"AutoML_c29683ec-b226-4f7d-84f7-0835d791949c_setup\", \"ProblemInfoJsonString\": \"{\\\"dataset_num_categorical\\\": 0, \\\"is_sparse\\\": false, \\\"subsampling\\\": false, \\\"dataset_classes\\\": 3, \\\"dataset_features\\\": 4, \\\"dataset_samples\\\": 105, \\\"single_frequency_class_detected\\\": false}\"}, \"tags\": {\"model_explain_run\": \"best_run\", \"experiment_status\": \"ModelSelection\", \"experiment_status_descr\": \"Beginning model selection.\", \"pipeline_id\": \"<f2f08837edc96ada39aee31331227c92b06f8bd7>;<322fae742ef55d1e4ea31ae1953e1e753c960877>;<d9be42186dd2ac9ef8b4e7d32d05996b7fda61e8>;<dbbac62423083471f5eb230f41e6763e90defcdf>;<032c2f067189c1f56172ca21b98c8843539dd9de>;<e74fb67ea10e398e25664c9a0023ff3c822de201>;<41e0a47454831fdc9797176012384bc00d15f1b9>;<d4219702fed9d83d50c56d8c3c4498b43e7da284>;<__AutoML_Ensemble__>;<__AutoML_Stack_Ensemble__>;\", \"score\": \"<0.755555555555556>;<0.911111111111111>;<0.666666666666667>;<0.977777777777778>;<NaN>;<NaN>;<NaN>;<NaN>;<0.977777777777778>;<0.977777777777778>;\", \"predicted_cost\": \"<0.5>;<0.5>;<0.5>;<0.137039318334922>;<0.5>;<0.107058>;<0.107282096272625>;<0.172228299777457>;<0>;<0>;\", \"fit_time\": \"<0.107058>;<0.107488>;<0.216525>;<0.244357>;<NaN>;<NaN>;<NaN>;<NaN>;<9>;<4>;\", \"training_percent\": \"<100>;<100>;<100>;<100>;<100>;<100>;<100>;<100>;<100>;<100>;\", \"iteration\": \"<0>;<1>;<2>;<6>;<3>;<4>;<5>;<7>;<8>;<9>;\", \"run_preprocessor\": \"<StandardScalerWrapper>;<StandardScalerWrapper>;<MinMaxScaler>;<StandardScalerWrapper>;<MinMaxScaler>;<StandardScalerWrapper>;<>;<MinMaxScaler>;<>;<>;\", \"run_algorithm\": \"<SGD>;<SGD>;<SGD>;<ExtremeRandomTrees>;<RandomForest>;<RandomForest>;<>;<RandomForest>;<VotingEnsemble>;<StackEnsemble>;\"}, \"end_time_utc\": \"2020-01-27T20:44:34.501959Z\", \"status\": \"Completed\", \"log_files\": {}, \"log_groups\": [], \"run_duration\": \"0:27:51\"}, \"child_runs\": [{\"run_id\": \"AutoML_c29683ec-b226-4f7d-84f7-0835d791949c_0\", \"run_number\": 37, \"metric\": null, \"status\": \"Completed\", \"run_type\": \"azureml.scriptrun\", \"training_percent\": \"100\", \"start_time\": \"2020-01-27T20:32:20.088916Z\", \"end_time\": \"2020-01-27T20:33:53.714031Z\", \"created_time\": \"2020-01-27T20:31:42.653258Z\", \"created_time_dt\": \"2020-01-27T20:31:42.653258Z\", \"duration\": \"0:02:11\", \"iteration\": \"0\", \"goal\": \"accuracy_max\", \"run_name\": \"StandardScalerWrapper, SGD\", \"run_properties\": \"<automl.client.core.runtime.model_wrappers.StandardScalerWrapper object at 0x7f16b06c3cf8\", \"primary_metric\": 0.75555556, \"best_metric\": 0.75555556}, {\"run_id\": \"AutoML_c29683ec-b226-4f7d-84f7-0835d791949c_3\", \"run_number\": 38, \"metric\": null, \"status\": \"Canceled\", \"run_type\": \"azureml.scriptrun\", \"training_percent\": \"100\", \"start_time\": \"2020-01-27T20:36:51.929239Z\", \"end_time\": \"2020-01-27T20:41:47.87993Z\", \"created_time\": \"2020-01-27T20:31:42.862619Z\", \"created_time_dt\": \"2020-01-27T20:31:42.862619Z\", \"duration\": \"0:10:05\", \"iteration\": \"3\", \"goal\": null, \"run_name\": \"MinMaxScaler, RandomForest\", \"run_properties\": null, \"primary_metric\": 0.95555556, \"best_metric\": 0.95555556}, {\"run_id\": \"AutoML_c29683ec-b226-4f7d-84f7-0835d791949c_1\", \"run_number\": 39, \"metric\": null, \"status\": \"Completed\", \"run_type\": \"azureml.scriptrun\", \"training_percent\": \"100\", \"start_time\": \"2020-01-27T20:33:56.189742Z\", \"end_time\": \"2020-01-27T20:35:58.850192Z\", \"created_time\": \"2020-01-27T20:31:42.870606Z\", \"created_time_dt\": \"2020-01-27T20:31:42.870606Z\", \"duration\": \"0:04:15\", \"iteration\": \"1\", \"goal\": \"accuracy_max\", \"run_name\": \"StandardScalerWrapper, SGD\", \"run_properties\": \"<automl.client.core.runtime.model_wrappers.StandardScalerWrapper object at 0x7f6e50904320\", \"primary_metric\": 0.91111111, \"best_metric\": 0.91111111}, {\"run_id\": \"AutoML_c29683ec-b226-4f7d-84f7-0835d791949c_2\", \"run_number\": 40, \"metric\": null, \"status\": \"Completed\", \"run_type\": \"azureml.scriptrun\", \"training_percent\": \"100\", \"start_time\": \"2020-01-27T20:35:58.134894Z\", \"end_time\": \"2020-01-27T20:37:41.357348Z\", \"created_time\": \"2020-01-27T20:31:43.190481Z\", \"created_time_dt\": \"2020-01-27T20:31:43.190481Z\", \"duration\": \"0:05:58\", \"iteration\": \"2\", \"goal\": \"accuracy_max\", \"run_name\": \"MinMaxScaler, SGD\", \"run_properties\": \"copy=True, feature_range=(0, 1\", \"primary_metric\": 0.66666667, \"best_metric\": 0.91111111}, {\"run_id\": \"AutoML_c29683ec-b226-4f7d-84f7-0835d791949c_4\", \"run_number\": 41, \"metric\": null, \"status\": \"Canceled\", \"run_type\": \"azureml.scriptrun\", \"training_percent\": \"100\", \"start_time\": \"2020-01-27T20:36:48.647771Z\", \"end_time\": \"2020-01-27T20:41:56.740022Z\", \"created_time\": \"2020-01-27T20:34:04.487844Z\", \"created_time_dt\": \"2020-01-27T20:34:04.487844Z\", \"duration\": \"0:07:52\", \"iteration\": \"4\", \"goal\": null, \"run_name\": \"StandardScalerWrapper, RandomForest\", \"run_properties\": null, \"primary_metric\": 0.93333333, \"best_metric\": 0.95555556}, {\"run_id\": \"AutoML_c29683ec-b226-4f7d-84f7-0835d791949c_5\", \"run_number\": 42, \"metric\": null, \"status\": \"Canceled\", \"run_type\": \"azureml.scriptrun\", \"training_percent\": \"100\", \"start_time\": \"2020-01-27T20:37:04.060134Z\", \"end_time\": \"2020-01-27T20:41:52.188679Z\", \"created_time\": \"2020-01-27T20:36:04.990483Z\", \"created_time_dt\": \"2020-01-27T20:36:04.990483Z\", \"duration\": \"0:05:47\", \"iteration\": \"5\", \"goal\": null, \"run_name\": \"Canceled\", \"run_properties\": null}, {\"run_id\": \"AutoML_c29683ec-b226-4f7d-84f7-0835d791949c_6\", \"run_number\": 43, \"metric\": null, \"status\": \"Completed\", \"run_type\": \"azureml.scriptrun\", \"training_percent\": \"100\", \"start_time\": \"2020-01-27T20:38:20.671312Z\", \"end_time\": \"2020-01-27T20:39:54.808892Z\", \"created_time\": \"2020-01-27T20:37:45.241451Z\", \"created_time_dt\": \"2020-01-27T20:37:45.241451Z\", \"duration\": \"0:02:09\", \"iteration\": \"6\", \"goal\": \"accuracy_max\", \"run_name\": \"StandardScalerWrapper, ExtremeRandomTrees\", \"run_properties\": \"<automl.client.core.runtime.model_wrappers.StandardScalerWrapper object at 0x7fdd4987cfd0\", \"primary_metric\": 0.97777778, \"best_metric\": 0.97777778}, {\"run_id\": \"AutoML_c29683ec-b226-4f7d-84f7-0835d791949c_7\", \"run_number\": 44, \"metric\": null, \"status\": \"Canceled\", \"run_type\": \"azureml.scriptrun\", \"training_percent\": \"100\", \"start_time\": \"2020-01-27T20:40:52.835733Z\", \"end_time\": \"2020-01-27T20:41:52.767718Z\", \"created_time\": \"2020-01-27T20:39:58.894626Z\", \"created_time_dt\": \"2020-01-27T20:39:58.894626Z\", \"duration\": \"0:01:53\", \"iteration\": \"7\", \"goal\": null, \"run_name\": \"MinMaxScaler, RandomForest\", \"run_properties\": null, \"primary_metric\": 0.95555556, \"best_metric\": 0.97777778}, {\"run_id\": \"AutoML_c29683ec-b226-4f7d-84f7-0835d791949c_8\", \"run_number\": 45, \"metric\": null, \"status\": \"Completed\", \"run_type\": \"azureml.scriptrun\", \"training_percent\": \"100\", \"start_time\": \"2020-01-27T20:42:37.297605Z\", \"end_time\": \"2020-01-27T20:44:30.973192Z\", \"created_time\": \"2020-01-27T20:41:58.540972Z\", \"created_time_dt\": \"2020-01-27T20:41:58.540972Z\", \"duration\": \"0:02:32\", \"iteration\": \"8\", \"goal\": \"accuracy_max\", \"run_name\": \"VotingEnsemble\", \"run_properties\": \"classification_labels=None,\\n               estimators=[('6', Pipeline(memory=None,\\n     steps=[('standardscalerwrapper', <automl.client.core.runtime.model_wrappers.StandardScalerWrapper object at 0x7f06b05e48d0>\", \"primary_metric\": 0.97777778, \"best_metric\": 0.97777778}, {\"run_id\": \"AutoML_c29683ec-b226-4f7d-84f7-0835d791949c_9\", \"run_number\": 46, \"metric\": null, \"status\": \"Completed\", \"run_type\": \"azureml.scriptrun\", \"training_percent\": \"100\", \"start_time\": \"2020-01-27T20:42:34.098543Z\", \"end_time\": \"2020-01-27T20:44:14.093478Z\", \"created_time\": \"2020-01-27T20:41:58.752328Z\", \"created_time_dt\": \"2020-01-27T20:41:58.752328Z\", \"duration\": \"0:02:15\", \"iteration\": \"9\", \"goal\": \"accuracy_max\", \"run_name\": \"StackEnsemble\", \"run_properties\": \"base_learners=[('6', Pipeline(memory=None,\\n     steps=[('standardscalerwrapper', <automl.client.core.runtime.model_wrappers.StandardScalerWrapper object at 0x7f6ba406e400>\", \"primary_metric\": 0.97777778, \"best_metric\": 0.97777778}], \"children_metrics\": {\"categories\": [0], \"series\": {\"AUC_micro\": [{\"categories\": [\"0\", \"1\", \"2\", \"3\", \"4\", \"6\", \"7\", \"8\", \"9\"], \"mode\": \"markers\", \"name\": \"AUC_micro\", \"stepped\": false, \"type\": \"scatter\", \"data\": [0.945925925925926, 0.9945679012345678, 0.9296296296296296, 0.9985185185185185, 0.9967901234567901, 0.9987654320987654, 0.9985185185185185, 0.9987654320987654, 0.9992592592592593]}, {\"categories\": [\"0\", \"1\", \"2\", \"3\", \"4\", \"6\", \"7\", \"8\", \"9\"], \"mode\": \"lines\", \"name\": \"AUC_micro_max\", \"stepped\": true, \"type\": \"scatter\", \"data\": [0.945925925925926, 0.9945679012345678, 0.9945679012345678, 0.9985185185185185, 0.9985185185185185, 0.9987654320987654, 0.9987654320987654, 0.9987654320987654, 0.9992592592592593]}], \"average_precision_score_weighted\": [{\"categories\": [\"0\", \"1\", \"2\", \"3\", \"4\", \"6\", \"7\", \"8\", \"9\"], \"mode\": \"markers\", \"name\": \"average_precision_score_weighted\", \"stepped\": false, \"type\": \"scatter\", \"data\": [0.8775653542829152, 0.989909509612812, 1.0, 0.9973765432098765, 0.9897995260482361, 0.9973765432098765, 0.9973765432098765, 0.9973765432098765, 0.9973765432098765]}, {\"categories\": [\"0\", \"1\", \"2\", \"3\", \"4\", \"6\", \"7\", \"8\", \"9\"], \"mode\": \"lines\", \"name\": \"average_precision_score_weighted_max\", \"stepped\": true, \"type\": \"scatter\", \"data\": [0.8775653542829152, 0.989909509612812, 1.0, 1.0, 1.0, 1.0, 1.0, 1.0, 1.0]}], \"AUC_weighted\": [{\"categories\": [\"0\", \"1\", \"2\", \"3\", \"4\", \"6\", \"7\", \"8\", \"9\"], \"mode\": \"markers\", \"name\": \"AUC_weighted\", \"stepped\": false, \"type\": \"scatter\", \"data\": [0.9241798941798941, 0.9938624338624338, 1.0, 0.9984656084656084, 0.9938624338624338, 0.9984656084656085, 0.9984656084656085, 0.9984656084656085, 0.9984656084656085]}, {\"categories\": [\"0\", \"1\", \"2\", \"3\", \"4\", \"6\", \"7\", \"8\", \"9\"], \"mode\": \"lines\", \"name\": \"AUC_weighted_max\", \"stepped\": true, \"type\": \"scatter\", \"data\": [0.9241798941798941, 0.9938624338624338, 1.0, 1.0, 1.0, 1.0, 1.0, 1.0, 1.0]}], \"f1_score_macro\": [{\"categories\": [\"0\", \"1\", \"2\", \"3\", \"4\", \"6\", \"7\", \"8\", \"9\"], \"mode\": \"markers\", \"name\": \"f1_score_macro\", \"stepped\": false, \"type\": \"scatter\", \"data\": [0.7593162393162394, 0.9166666666666666, 0.6257309941520468, 0.9581699346405229, 0.9374389051808407, 0.9791463017269469, 0.9583333333333334, 0.9791463017269469, 0.9791463017269469]}, {\"categories\": [\"0\", \"1\", \"2\", \"3\", \"4\", \"6\", \"7\", \"8\", \"9\"], \"mode\": \"lines\", \"name\": \"f1_score_macro_max\", \"stepped\": true, \"type\": \"scatter\", \"data\": [0.7593162393162394, 0.9166666666666666, 0.9166666666666666, 0.9581699346405229, 0.9581699346405229, 0.9791463017269469, 0.9791463017269469, 0.9791463017269469, 0.9791463017269469]}], \"weighted_accuracy\": [{\"categories\": [\"0\", \"1\", \"2\", \"3\", \"4\", \"6\", \"7\", \"8\", \"9\"], \"mode\": \"markers\", \"name\": \"weighted_accuracy\", \"stepped\": false, \"type\": \"scatter\", \"data\": [0.7291361639824305, 0.903367496339678, 0.6266471449487554, 0.9531478770131772, 0.9282576866764276, 0.9751098096632504, 0.9502196193265007, 0.9751098096632504, 0.9751098096632504]}, {\"categories\": [\"0\", \"1\", \"2\", \"3\", \"4\", \"6\", \"7\", \"8\", \"9\"], \"mode\": \"lines\", \"name\": \"weighted_accuracy_max\", \"stepped\": true, \"type\": \"scatter\", \"data\": [0.7291361639824305, 0.903367496339678, 0.903367496339678, 0.9531478770131772, 0.9531478770131772, 0.9751098096632504, 0.9751098096632504, 0.9751098096632504, 0.9751098096632504]}], \"balanced_accuracy\": [{\"categories\": [\"0\", \"1\", \"2\", \"3\", \"4\", \"6\", \"7\", \"8\", \"9\"], \"mode\": \"markers\", \"name\": \"balanced_accuracy\", \"stepped\": false, \"type\": \"scatter\", \"data\": [0.7816993464052286, 0.918954248366013, 0.7058823529411765, 0.9581699346405229, 0.9385620915032679, 0.9803921568627452, 0.9607843137254902, 0.9803921568627452, 0.9803921568627452]}, {\"categories\": [\"0\", \"1\", \"2\", \"3\", \"4\", \"6\", \"7\", \"8\", \"9\"], \"mode\": \"lines\", \"name\": \"balanced_accuracy_max\", \"stepped\": true, \"type\": \"scatter\", \"data\": [0.7816993464052286, 0.918954248366013, 0.918954248366013, 0.9581699346405229, 0.9581699346405229, 0.9803921568627452, 0.9803921568627452, 0.9803921568627452, 0.9803921568627452]}], \"average_precision_score_micro\": [{\"categories\": [\"0\", \"1\", \"2\", \"3\", \"4\", \"6\", \"7\", \"8\", \"9\"], \"mode\": \"markers\", \"name\": \"average_precision_score_micro\", \"stepped\": false, \"type\": \"scatter\", \"data\": [0.9041753435601732, 0.9897478706019079, 0.8813436398227585, 0.9971398770311815, 0.9938747128188121, 0.9976122334455668, 0.9971398770311813, 0.9976122334455668, 0.9985605463619648]}, {\"categories\": [\"0\", \"1\", \"2\", \"3\", \"4\", \"6\", \"7\", \"8\", \"9\"], \"mode\": \"lines\", \"name\": \"average_precision_score_micro_max\", \"stepped\": true, \"type\": \"scatter\", \"data\": [0.9041753435601732, 0.9897478706019079, 0.9897478706019079, 0.9971398770311815, 0.9971398770311815, 0.9976122334455668, 0.9976122334455668, 0.9976122334455668, 0.9985605463619648]}], \"accuracy\": [{\"categories\": [\"0\", \"1\", \"2\", \"3\", \"4\", \"6\", \"7\", \"8\", \"9\"], \"mode\": \"markers\", \"name\": \"accuracy\", \"stepped\": false, \"type\": \"scatter\", \"data\": [0.7555555555555555, 0.9111111111111111, 0.6666666666666666, 0.9555555555555556, 0.9333333333333333, 0.9777777777777777, 0.9555555555555556, 0.9777777777777777, 0.9777777777777777]}, {\"categories\": [\"0\", \"1\", \"2\", \"3\", \"4\", \"6\", \"7\", \"8\", \"9\"], \"mode\": \"lines\", \"name\": \"accuracy_max\", \"stepped\": true, \"type\": \"scatter\", \"data\": [0.7555555555555555, 0.9111111111111111, 0.9111111111111111, 0.9555555555555556, 0.9555555555555556, 0.9777777777777777, 0.9777777777777777, 0.9777777777777777, 0.9777777777777777]}], \"recall_score_micro\": [{\"categories\": [\"0\", \"1\", \"2\", \"3\", \"4\", \"6\", \"7\", \"8\", \"9\"], \"mode\": \"markers\", \"name\": \"recall_score_micro\", \"stepped\": false, \"type\": \"scatter\", \"data\": [0.7555555555555555, 0.9111111111111111, 0.6666666666666666, 0.9555555555555556, 0.9333333333333333, 0.9777777777777777, 0.9555555555555556, 0.9777777777777777, 0.9777777777777777]}, {\"categories\": [\"0\", \"1\", \"2\", \"3\", \"4\", \"6\", \"7\", \"8\", \"9\"], \"mode\": \"lines\", \"name\": \"recall_score_micro_max\", \"stepped\": true, \"type\": \"scatter\", \"data\": [0.7555555555555555, 0.9111111111111111, 0.9111111111111111, 0.9555555555555556, 0.9555555555555556, 0.9777777777777777, 0.9777777777777777, 0.9777777777777777, 0.9777777777777777]}], \"precision_score_micro\": [{\"categories\": [\"0\", \"1\", \"2\", \"3\", \"4\", \"6\", \"7\", \"8\", \"9\"], \"mode\": \"markers\", \"name\": \"precision_score_micro\", \"stepped\": false, \"type\": \"scatter\", \"data\": [0.7555555555555555, 0.9111111111111111, 0.6666666666666666, 0.9555555555555556, 0.9333333333333333, 0.9777777777777777, 0.9555555555555556, 0.9777777777777777, 0.9777777777777777]}, {\"categories\": [\"0\", \"1\", \"2\", \"3\", \"4\", \"6\", \"7\", \"8\", \"9\"], \"mode\": \"lines\", \"name\": \"precision_score_micro_max\", \"stepped\": true, \"type\": \"scatter\", \"data\": [0.7555555555555555, 0.9111111111111111, 0.9111111111111111, 0.9555555555555556, 0.9555555555555556, 0.9777777777777777, 0.9777777777777777, 0.9777777777777777, 0.9777777777777777]}], \"recall_score_macro\": [{\"categories\": [\"0\", \"1\", \"2\", \"3\", \"4\", \"6\", \"7\", \"8\", \"9\"], \"mode\": \"markers\", \"name\": \"recall_score_macro\", \"stepped\": false, \"type\": \"scatter\", \"data\": [0.7816993464052286, 0.918954248366013, 0.7058823529411765, 0.9581699346405229, 0.9385620915032679, 0.9803921568627452, 0.9607843137254902, 0.9803921568627452, 0.9803921568627452]}, {\"categories\": [\"0\", \"1\", \"2\", \"3\", \"4\", \"6\", \"7\", \"8\", \"9\"], \"mode\": \"lines\", \"name\": \"recall_score_macro_max\", \"stepped\": true, \"type\": \"scatter\", \"data\": [0.7816993464052286, 0.918954248366013, 0.918954248366013, 0.9581699346405229, 0.9581699346405229, 0.9803921568627452, 0.9803921568627452, 0.9803921568627452, 0.9803921568627452]}], \"f1_score_weighted\": [{\"categories\": [\"0\", \"1\", \"2\", \"3\", \"4\", \"6\", \"7\", \"8\", \"9\"], \"mode\": \"markers\", \"name\": \"f1_score_weighted\", \"stepped\": false, \"type\": \"scatter\", \"data\": [0.7397606837606838, 0.9111111111111111, 0.5906432748538012, 0.9555555555555556, 0.9333985011404365, 0.9777995003801455, 0.9555555555555556, 0.9777995003801455, 0.9777995003801455]}, {\"categories\": [\"0\", \"1\", \"2\", \"3\", \"4\", \"6\", \"7\", \"8\", \"9\"], \"mode\": \"lines\", \"name\": \"f1_score_weighted_max\", \"stepped\": true, \"type\": \"scatter\", \"data\": [0.7397606837606838, 0.9111111111111111, 0.9111111111111111, 0.9555555555555556, 0.9555555555555556, 0.9777995003801455, 0.9777995003801455, 0.9777995003801455, 0.9777995003801455]}], \"f1_score_micro\": [{\"categories\": [\"0\", \"1\", \"2\", \"3\", \"4\", \"6\", \"7\", \"8\", \"9\"], \"mode\": \"markers\", \"name\": \"f1_score_micro\", \"stepped\": false, \"type\": \"scatter\", \"data\": [0.7555555555555555, 0.9111111111111111, 0.6666666666666666, 0.9555555555555556, 0.9333333333333333, 0.9777777777777777, 0.9555555555555556, 0.9777777777777777, 0.9777777777777777]}, {\"categories\": [\"0\", \"1\", \"2\", \"3\", \"4\", \"6\", \"7\", \"8\", \"9\"], \"mode\": \"lines\", \"name\": \"f1_score_micro_max\", \"stepped\": true, \"type\": \"scatter\", \"data\": [0.7555555555555555, 0.9111111111111111, 0.9111111111111111, 0.9555555555555556, 0.9555555555555556, 0.9777777777777777, 0.9777777777777777, 0.9777777777777777, 0.9777777777777777]}], \"norm_macro_recall\": [{\"categories\": [\"0\", \"1\", \"2\", \"3\", \"4\", \"6\", \"7\", \"8\", \"9\"], \"mode\": \"markers\", \"name\": \"norm_macro_recall\", \"stepped\": false, \"type\": \"scatter\", \"data\": [0.672549019607843, 0.8784313725490194, 0.5588235294117647, 0.9372549019607842, 0.9078431372549016, 0.9705882352941178, 0.9411764705882352, 0.9705882352941178, 0.9705882352941178]}, {\"categories\": [\"0\", \"1\", \"2\", \"3\", \"4\", \"6\", \"7\", \"8\", \"9\"], \"mode\": \"lines\", \"name\": \"norm_macro_recall_max\", \"stepped\": true, \"type\": \"scatter\", \"data\": [0.672549019607843, 0.8784313725490194, 0.8784313725490194, 0.9372549019607842, 0.9372549019607842, 0.9705882352941178, 0.9705882352941178, 0.9705882352941178, 0.9705882352941178]}], \"recall_score_weighted\": [{\"categories\": [\"0\", \"1\", \"2\", \"3\", \"4\", \"6\", \"7\", \"8\", \"9\"], \"mode\": \"markers\", \"name\": \"recall_score_weighted\", \"stepped\": false, \"type\": \"scatter\", \"data\": [0.7555555555555555, 0.9111111111111111, 0.6666666666666666, 0.9555555555555556, 0.9333333333333333, 0.9777777777777777, 0.9555555555555556, 0.9777777777777777, 0.9777777777777777]}, {\"categories\": [\"0\", \"1\", \"2\", \"3\", \"4\", \"6\", \"7\", \"8\", \"9\"], \"mode\": \"lines\", \"name\": \"recall_score_weighted_max\", \"stepped\": true, \"type\": \"scatter\", \"data\": [0.7555555555555555, 0.9111111111111111, 0.9111111111111111, 0.9555555555555556, 0.9555555555555556, 0.9777777777777777, 0.9777777777777777, 0.9777777777777777, 0.9777777777777777]}], \"precision_score_weighted\": [{\"categories\": [\"0\", \"1\", \"2\", \"3\", \"4\", \"6\", \"7\", \"8\", \"9\"], \"mode\": \"markers\", \"name\": \"precision_score_weighted\", \"stepped\": false, \"type\": \"scatter\", \"data\": [0.8138888888888889, 0.9159912854030501, 0.8333333333333334, 0.9555555555555556, 0.9347222222222222, 0.9791666666666666, 0.9607843137254902, 0.9791666666666666, 0.9791666666666666]}, {\"categories\": [\"0\", \"1\", \"2\", \"3\", \"4\", \"6\", \"7\", \"8\", \"9\"], \"mode\": \"lines\", \"name\": \"precision_score_weighted_max\", \"stepped\": true, \"type\": \"scatter\", \"data\": [0.8138888888888889, 0.9159912854030501, 0.9159912854030501, 0.9555555555555556, 0.9555555555555556, 0.9791666666666666, 0.9791666666666666, 0.9791666666666666, 0.9791666666666666]}], \"average_precision_score_macro\": [{\"categories\": [\"0\", \"1\", \"2\", \"3\", \"4\", \"6\", \"7\", \"8\", \"9\"], \"mode\": \"markers\", \"name\": \"average_precision_score_macro\", \"stepped\": false, \"type\": \"scatter\", \"data\": [0.8882385532834599, 0.9905462305321165, 1.0, 0.9975217864923748, 0.9903652104116499, 0.9975217864923748, 0.9975217864923748, 0.9975217864923748, 0.9975217864923748]}, {\"categories\": [\"0\", \"1\", \"2\", \"3\", \"4\", \"6\", \"7\", \"8\", \"9\"], \"mode\": \"lines\", \"name\": \"average_precision_score_macro_max\", \"stepped\": true, \"type\": \"scatter\", \"data\": [0.8882385532834599, 0.9905462305321165, 1.0, 1.0, 1.0, 1.0, 1.0, 1.0, 1.0]}], \"precision_score_macro\": [{\"categories\": [\"0\", \"1\", \"2\", \"3\", \"4\", \"6\", \"7\", \"8\", \"9\"], \"mode\": \"markers\", \"name\": \"precision_score_macro\", \"stepped\": false, \"type\": \"scatter\", \"data\": [0.8194444444444445, 0.918954248366013, 0.8333333333333334, 0.9581699346405229, 0.9375, 0.9791666666666666, 0.9607843137254902, 0.9791666666666666, 0.9791666666666666]}, {\"categories\": [\"0\", \"1\", \"2\", \"3\", \"4\", \"6\", \"7\", \"8\", \"9\"], \"mode\": \"lines\", \"name\": \"precision_score_macro_max\", \"stepped\": true, \"type\": \"scatter\", \"data\": [0.8194444444444445, 0.918954248366013, 0.918954248366013, 0.9581699346405229, 0.9581699346405229, 0.9791666666666666, 0.9791666666666666, 0.9791666666666666, 0.9791666666666666]}], \"log_loss\": [{\"categories\": [\"0\", \"1\", \"2\", \"3\", \"4\", \"6\", \"7\", \"8\", \"9\"], \"mode\": \"markers\", \"name\": \"log_loss\", \"stepped\": false, \"type\": \"scatter\", \"data\": [0.529373382394909, 0.26311418024641614, 0.573432868652772, 0.08409061889031057, 0.1309344599306104, 0.13712084912581948, 0.12983792344183634, 0.13712084912581948, 0.1864513120014677]}, {\"categories\": [\"0\", \"1\", \"2\", \"3\", \"4\", \"6\", \"7\", \"8\", \"9\"], \"mode\": \"lines\", \"name\": \"log_loss_min\", \"stepped\": true, \"type\": \"scatter\", \"data\": [0.529373382394909, 0.26311418024641614, 0.26311418024641614, 0.08409061889031057, 0.08409061889031057, 0.08409061889031057, 0.08409061889031057, 0.08409061889031057, 0.08409061889031057]}], \"AUC_macro\": [{\"categories\": [\"0\", \"1\", \"2\", \"3\", \"4\", \"6\", \"7\", \"8\", \"9\"], \"mode\": \"markers\", \"name\": \"AUC_macro\", \"stepped\": false, \"type\": \"scatter\", \"data\": [0.9311826953003424, 0.9942359165888578, 1.0, 0.9985589791472144, 0.9942359165888578, 0.9985589791472145, 0.9985589791472145, 0.9985589791472145, 0.9985589791472145]}, {\"categories\": [\"0\", \"1\", \"2\", \"3\", \"4\", \"6\", \"7\", \"8\", \"9\"], \"mode\": \"lines\", \"name\": \"AUC_macro_max\", \"stepped\": true, \"type\": \"scatter\", \"data\": [0.9311826953003424, 0.9942359165888578, 1.0, 1.0, 1.0, 1.0, 1.0, 1.0, 1.0]}]}, \"metricName\": null, \"primaryMetricName\": \"accuracy\", \"showLegend\": false}, \"run_metrics\": [], \"run_logs\": \"\\nRun is completed.\", \"graph\": {}, \"widget_settings\": {\"childWidgetDisplay\": \"popup\", \"send_telemetry\": false, \"log_level\": \"INFO\", \"sdk_version\": \"1.0.83\"}, \"loading\": false}"
     },
     "metadata": {},
     "output_type": "display_data"
    }
   ],
   "source": [
    "from azureml.widgets import RunDetails\n",
    "\n",
    "# monitor the run\n",
    "RunDetails(remote_run).show()"
   ]
  },
  {
   "cell_type": "code",
   "execution_count": 7,
   "metadata": {},
   "outputs": [],
   "source": [
    "remote_run.wait_for_completion()\n",
    "\n",
    "# Retrieve the best model to use it further.\n",
    "_, fitted_model = remote_run.get_output()"
   ]
  },
  {
   "cell_type": "code",
   "execution_count": 8,
   "metadata": {},
   "outputs": [
    {
     "data": {
      "text/html": [
       "<table style=\"width:100%\"><tr><th>Experiment</th><th>Id</th><th>Type</th><th>Status</th><th>Details Page</th><th>Docs Page</th></tr><tr><td>iris-automl</td><td>AutoML_c29683ec-b226-4f7d-84f7-0835d791949c</td><td>automl</td><td>Completed</td><td><a href=\"https://ml.azure.com/experiments/iris-automl/runs/AutoML_c29683ec-b226-4f7d-84f7-0835d791949c?wsid=/subscriptions/08d28dbf-1252-4438-b3be-0188e3803935/resourcegroups/AMLGRP2020/workspaces/AMLWKSP2020\" target=\"_blank\" rel=\"noopener\">Link to Azure Machine Learning studio</a></td><td><a href=\"https://docs.microsoft.com/en-us/python/api/overview/azure/ml/intro?view=azure-ml-py\" target=\"_blank\" rel=\"noopener\">Link to Documentation</a></td></tr></table>"
      ],
      "text/plain": [
       "Run(Experiment: iris-automl,\n",
       "Id: AutoML_c29683ec-b226-4f7d-84f7-0835d791949c,\n",
       "Type: automl,\n",
       "Status: Completed)"
      ]
     },
     "execution_count": 8,
     "metadata": {},
     "output_type": "execute_result"
    }
   ],
   "source": [
    "remote_run"
   ]
  },
  {
   "cell_type": "code",
   "execution_count": 9,
   "metadata": {},
   "outputs": [],
   "source": [
    "best_run, fitted_model = remote_run.get_output()\n",
    "model_name = best_run.properties['model_name']"
   ]
  },
  {
   "cell_type": "code",
   "execution_count": 10,
   "metadata": {},
   "outputs": [
    {
     "data": {
      "text/plain": [
       "'AutoMLc29683ecb8'"
      ]
     },
     "execution_count": 10,
     "metadata": {},
     "output_type": "execute_result"
    }
   ],
   "source": [
    "model_name"
   ]
  },
  {
   "cell_type": "code",
   "execution_count": 11,
   "metadata": {},
   "outputs": [
    {
     "name": "stdout",
     "output_type": "stream",
     "text": [
      "AutoMLc29683ecb8\n"
     ]
    }
   ],
   "source": [
    "#Register Model\n",
    "description = 'AutoML Iris V1'\n",
    "tags = None\n",
    "model = remote_run.register_model(model_name = model_name, description = description, tags = tags)\n",
    "\n",
    "print(remote_run.model_id)"
   ]
  },
  {
   "cell_type": "code",
   "execution_count": 12,
   "metadata": {},
   "outputs": [],
   "source": [
    "script_file_name = 'score_fcast.py'\n",
    "best_run.download_file('outputs/scoring_file_v_1_0_0.py', script_file_name)\n",
    "\n",
    "conda_file_name = 'conda_file.yml'\n",
    "best_run.download_file('outputs/conda_env_v_1_0_0.yml', conda_file_name)\n",
    "\n",
    "#automlenv = Environment.from_conda_specification(name = \"automlenv\", file_path = conda_file_name)\n"
   ]
  },
  {
   "cell_type": "code",
   "execution_count": 13,
   "metadata": {},
   "outputs": [],
   "source": [
    "from azureml.core import Environment\n",
    "from azureml.core.conda_dependencies import CondaDependencies \n",
    "\n",
    "conda = CondaDependencies.create(conda_packages=['numpy>=1.16.0,<=1.16.2','pandas','scikit-learn','py-xgboost<=0.80','fbprophet==0.5','psutil>=5.2.2,<6.0.0'],pip_packages=['azureml-defaults==1.0.83','azureml-train-automl-runtime==1.0.83.1','inference-schema','azureml-explain-model==1.0.83'])\n",
    "\n",
    "myenv=Environment(name=\"irisenv\")\n",
    "myenv.python.conda_dependencies = conda\n",
    "\n"
   ]
  },
  {
   "cell_type": "code",
   "execution_count": null,
   "metadata": {},
   "outputs": [],
   "source": [
    "from azureml.core.model import InferenceConfig\n",
    "from azureml.core.webservice import AciWebservice\n",
    "from azureml.core.webservice import Webservice, AksWebservice\n",
    "from azureml.core.model import Model\n",
    "from azureml.core.compute import AksCompute, ComputeTarget\n",
    "\n",
    "# Use the default configuration (can also provide parameters to customize)\n",
    "#prov_config = AksCompute.provisioning_configuration()\n",
    "\n",
    "aks_name = 'MTCAKSCluster' \n",
    "# Create the cluster\n",
    "#aks_target = ComputeTarget(workspace = workspace,name = aks_name)\n",
    "\n",
    "aks_target = AksCompute(workspace=ws,name=aks_name)\n",
    "\n",
    "aks_config = AksWebservice.deploy_configuration(cpu_cores=1,memory_gb=1,auth_enabled=True)\n",
    "\n",
    "\n",
    "# inference_config = InferenceConfig(environment= automlenv,\n",
    "#                                     entry_script = script_file_name)\n",
    "\n",
    "\n",
    "inference_config = InferenceConfig(environment=myenv,\n",
    "                                     entry_script = script_file_name)\n",
    "\n",
    "\n",
    "\n",
    "#inference_config = InferenceConfig(entry_script = script_file_name)\n",
    "\n",
    "\n",
    "api_service_name = 'automl-iris-api'\n",
    "\n",
    "api_service = Model.deploy(workspace=ws,\n",
    "                           name=api_service_name, \n",
    "                           models=[model],\n",
    "                           inference_config=inference_config, \n",
    "                           deployment_config=aks_config,\n",
    "                           deployment_target=aks_target,\n",
    "                          overwrite=True)\n",
    "\n",
    "api_service.wait_for_deployment(show_output=True)\n",
    "print(api_service.state)"
   ]
  },
  {
   "cell_type": "code",
   "execution_count": 14,
   "metadata": {},
   "outputs": [
    {
     "data": {
      "text/plain": [
       "'{\"result\": [\"Iris-virginica\"]}'"
      ]
     },
     "execution_count": 14,
     "metadata": {},
     "output_type": "execute_result"
    }
   ],
   "source": [
    "import json\n",
    "import pickle\n",
    "import numpy as np\n",
    "import pandas as pd\n",
    "import azureml.train.automl\n",
    "from sklearn.externals import joblib\n",
    "from azureml.core.model import Model\n",
    "\n",
    "input_sample = pd.DataFrame(data=[{'sepal_length': 5.9, 'sepal_width': 3.0, 'petal_length': 5.1, 'petal_width': 1.8}])\n",
    "\n",
    "\n",
    "new_model_name = 'bestmodel.pkl'\n",
    "best_run.download_file('outputs/model.pkl', new_model_name)\n",
    "\n",
    "model_path = Model.get_model_path(new_model_name)\n",
    "\n",
    "model = joblib.load(model_path)\n",
    "\n",
    "data = input_sample\n",
    "\n",
    "result = model.predict(data)\n",
    "\n",
    "json.dumps({\"result\": result.tolist()})\n",
    "    \n",
    "#display(result)\n"
   ]
  },
  {
   "cell_type": "code",
   "execution_count": null,
   "metadata": {},
   "outputs": [],
   "source": [
    "\n",
    "import json\n",
    "\n",
    "test_sample = json.dumps({'data': [\n",
    "    [5.9,3.0,5.1,1.8]\n",
    "]})\n",
    "\n",
    "api_service.run(input_data=test_sample)"
   ]
  }
 ],
 "metadata": {
  "kernel_info": {
   "name": "python3"
  },
  "kernelspec": {
   "display_name": "Python 3",
   "language": "python",
   "name": "python3"
  },
  "language_info": {
   "codemirror_mode": {
    "name": "ipython",
    "version": 3
   },
   "file_extension": ".py",
   "mimetype": "text/x-python",
   "name": "python",
   "nbconvert_exporter": "python",
   "pygments_lexer": "ipython3",
   "version": "3.6.9"
  },
  "nteract": {
   "version": "nteract-front-end@1.0.0"
  }
 },
 "nbformat": 4,
 "nbformat_minor": 2
}
